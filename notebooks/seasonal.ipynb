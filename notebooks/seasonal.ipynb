{
 "cells": [
  {
   "cell_type": "code",
   "execution_count": 1,
   "metadata": {},
   "outputs": [],
   "source": [
    "import pandas as pd\n",
    "import seaborn as sns\n",
    "import matplotlib.pyplot as plt"
   ]
  },
  {
   "cell_type": "code",
   "execution_count": 2,
   "metadata": {},
   "outputs": [
    {
     "data": {
      "text/html": [
       "<div>\n",
       "<style scoped>\n",
       "    .dataframe tbody tr th:only-of-type {\n",
       "        vertical-align: middle;\n",
       "    }\n",
       "\n",
       "    .dataframe tbody tr th {\n",
       "        vertical-align: top;\n",
       "    }\n",
       "\n",
       "    .dataframe thead th {\n",
       "        text-align: right;\n",
       "    }\n",
       "</style>\n",
       "<table border=\"1\" class=\"dataframe\">\n",
       "  <thead>\n",
       "    <tr style=\"text-align: right;\">\n",
       "      <th></th>\n",
       "      <th>Month</th>\n",
       "      <th>Clothing</th>\n",
       "      <th>Appliances</th>\n",
       "      <th>FoodAndBeverage</th>\n",
       "      <th>Automobiles</th>\n",
       "      <th>GeneralMerchandise</th>\n",
       "      <th>BuildingMaterials</th>\n",
       "    </tr>\n",
       "  </thead>\n",
       "  <tbody>\n",
       "    <tr>\n",
       "      <th>0</th>\n",
       "      <td>1992-01</td>\n",
       "      <td>6938</td>\n",
       "      <td>3657</td>\n",
       "      <td>29589</td>\n",
       "      <td>26788</td>\n",
       "      <td>14996</td>\n",
       "      <td>8964</td>\n",
       "    </tr>\n",
       "    <tr>\n",
       "      <th>1</th>\n",
       "      <td>1992-02</td>\n",
       "      <td>7524</td>\n",
       "      <td>3490</td>\n",
       "      <td>28570</td>\n",
       "      <td>28203</td>\n",
       "      <td>16015</td>\n",
       "      <td>9023</td>\n",
       "    </tr>\n",
       "    <tr>\n",
       "      <th>2</th>\n",
       "      <td>1992-03</td>\n",
       "      <td>8475</td>\n",
       "      <td>3669</td>\n",
       "      <td>29682</td>\n",
       "      <td>31684</td>\n",
       "      <td>17984</td>\n",
       "      <td>10608</td>\n",
       "    </tr>\n",
       "    <tr>\n",
       "      <th>3</th>\n",
       "      <td>1992-04</td>\n",
       "      <td>9401</td>\n",
       "      <td>3527</td>\n",
       "      <td>30228</td>\n",
       "      <td>32547</td>\n",
       "      <td>18872</td>\n",
       "      <td>11630</td>\n",
       "    </tr>\n",
       "    <tr>\n",
       "      <th>4</th>\n",
       "      <td>1992-05</td>\n",
       "      <td>9558</td>\n",
       "      <td>3571</td>\n",
       "      <td>31677</td>\n",
       "      <td>32883</td>\n",
       "      <td>20037</td>\n",
       "      <td>12327</td>\n",
       "    </tr>\n",
       "  </tbody>\n",
       "</table>\n",
       "</div>"
      ],
      "text/plain": [
       "     Month  Clothing  Appliances  FoodAndBeverage  Automobiles  \\\n",
       "0  1992-01      6938        3657            29589        26788   \n",
       "1  1992-02      7524        3490            28570        28203   \n",
       "2  1992-03      8475        3669            29682        31684   \n",
       "3  1992-04      9401        3527            30228        32547   \n",
       "4  1992-05      9558        3571            31677        32883   \n",
       "\n",
       "   GeneralMerchandise  BuildingMaterials  \n",
       "0               14996               8964  \n",
       "1               16015               9023  \n",
       "2               17984              10608  \n",
       "3               18872              11630  \n",
       "4               20037              12327  "
      ]
     },
     "execution_count": 2,
     "metadata": {},
     "output_type": "execute_result"
    }
   ],
   "source": [
    "df = pd.read_csv('../data/us-retail-sales.csv')\n",
    "df.head()"
   ]
  },
  {
   "cell_type": "code",
   "execution_count": 3,
   "metadata": {},
   "outputs": [],
   "source": [
    "df['Month'] = pd.to_datetime(df['Month'])"
   ]
  },
  {
   "cell_type": "code",
   "execution_count": 4,
   "metadata": {},
   "outputs": [],
   "source": [
    "data = df[df.Month>=pd.to_datetime('2014-12-01')]"
   ]
  },
  {
   "cell_type": "code",
   "execution_count": 5,
   "metadata": {},
   "outputs": [
    {
     "data": {
      "text/html": [
       "<div>\n",
       "<style scoped>\n",
       "    .dataframe tbody tr th:only-of-type {\n",
       "        vertical-align: middle;\n",
       "    }\n",
       "\n",
       "    .dataframe tbody tr th {\n",
       "        vertical-align: top;\n",
       "    }\n",
       "\n",
       "    .dataframe thead th {\n",
       "        text-align: right;\n",
       "    }\n",
       "</style>\n",
       "<table border=\"1\" class=\"dataframe\">\n",
       "  <thead>\n",
       "    <tr style=\"text-align: right;\">\n",
       "      <th></th>\n",
       "      <th>Month</th>\n",
       "      <th>Clothing</th>\n",
       "      <th>Appliances</th>\n",
       "      <th>FoodAndBeverage</th>\n",
       "      <th>Automobiles</th>\n",
       "      <th>GeneralMerchandise</th>\n",
       "      <th>BuildingMaterials</th>\n",
       "    </tr>\n",
       "  </thead>\n",
       "  <tbody>\n",
       "    <tr>\n",
       "      <th>275</th>\n",
       "      <td>2014-12-01</td>\n",
       "      <td>32760</td>\n",
       "      <td>13510</td>\n",
       "      <td>61344</td>\n",
       "      <td>80388</td>\n",
       "      <td>75782</td>\n",
       "      <td>24037</td>\n",
       "    </tr>\n",
       "    <tr>\n",
       "      <th>276</th>\n",
       "      <td>2015-01-01</td>\n",
       "      <td>15840</td>\n",
       "      <td>7989</td>\n",
       "      <td>56749</td>\n",
       "      <td>72372</td>\n",
       "      <td>49843</td>\n",
       "      <td>20708</td>\n",
       "    </tr>\n",
       "    <tr>\n",
       "      <th>277</th>\n",
       "      <td>2015-02-01</td>\n",
       "      <td>18079</td>\n",
       "      <td>7707</td>\n",
       "      <td>52155</td>\n",
       "      <td>73422</td>\n",
       "      <td>49471</td>\n",
       "      <td>19470</td>\n",
       "    </tr>\n",
       "    <tr>\n",
       "      <th>278</th>\n",
       "      <td>2015-03-01</td>\n",
       "      <td>20819</td>\n",
       "      <td>7879</td>\n",
       "      <td>56741</td>\n",
       "      <td>89461</td>\n",
       "      <td>55122</td>\n",
       "      <td>25912</td>\n",
       "    </tr>\n",
       "    <tr>\n",
       "      <th>279</th>\n",
       "      <td>2015-04-01</td>\n",
       "      <td>20470</td>\n",
       "      <td>7108</td>\n",
       "      <td>55703</td>\n",
       "      <td>86739</td>\n",
       "      <td>52865</td>\n",
       "      <td>30742</td>\n",
       "    </tr>\n",
       "    <tr>\n",
       "      <th>...</th>\n",
       "      <td>...</td>\n",
       "      <td>...</td>\n",
       "      <td>...</td>\n",
       "      <td>...</td>\n",
       "      <td>...</td>\n",
       "      <td>...</td>\n",
       "      <td>...</td>\n",
       "    </tr>\n",
       "    <tr>\n",
       "      <th>331</th>\n",
       "      <td>2019-08-01</td>\n",
       "      <td>23829</td>\n",
       "      <td>7519</td>\n",
       "      <td>66937</td>\n",
       "      <td>105884</td>\n",
       "      <td>61777</td>\n",
       "      <td>32375</td>\n",
       "    </tr>\n",
       "    <tr>\n",
       "      <th>332</th>\n",
       "      <td>2019-09-01</td>\n",
       "      <td>19567</td>\n",
       "      <td>7123</td>\n",
       "      <td>62420</td>\n",
       "      <td>91758</td>\n",
       "      <td>54785</td>\n",
       "      <td>29963</td>\n",
       "    </tr>\n",
       "    <tr>\n",
       "      <th>333</th>\n",
       "      <td>2019-10-01</td>\n",
       "      <td>21400</td>\n",
       "      <td>7096</td>\n",
       "      <td>64849</td>\n",
       "      <td>95219</td>\n",
       "      <td>58872</td>\n",
       "      <td>32629</td>\n",
       "    </tr>\n",
       "    <tr>\n",
       "      <th>334</th>\n",
       "      <td>2019-11-01</td>\n",
       "      <td>25170</td>\n",
       "      <td>9242</td>\n",
       "      <td>66363</td>\n",
       "      <td>93303</td>\n",
       "      <td>66356</td>\n",
       "      <td>29793</td>\n",
       "    </tr>\n",
       "    <tr>\n",
       "      <th>335</th>\n",
       "      <td>2019-12-01</td>\n",
       "      <td>35157</td>\n",
       "      <td>10886</td>\n",
       "      <td>70028</td>\n",
       "      <td>96137</td>\n",
       "      <td>77926</td>\n",
       "      <td>28621</td>\n",
       "    </tr>\n",
       "  </tbody>\n",
       "</table>\n",
       "<p>61 rows × 7 columns</p>\n",
       "</div>"
      ],
      "text/plain": [
       "         Month  Clothing  Appliances  FoodAndBeverage  Automobiles  \\\n",
       "275 2014-12-01     32760       13510            61344        80388   \n",
       "276 2015-01-01     15840        7989            56749        72372   \n",
       "277 2015-02-01     18079        7707            52155        73422   \n",
       "278 2015-03-01     20819        7879            56741        89461   \n",
       "279 2015-04-01     20470        7108            55703        86739   \n",
       "..         ...       ...         ...              ...          ...   \n",
       "331 2019-08-01     23829        7519            66937       105884   \n",
       "332 2019-09-01     19567        7123            62420        91758   \n",
       "333 2019-10-01     21400        7096            64849        95219   \n",
       "334 2019-11-01     25170        9242            66363        93303   \n",
       "335 2019-12-01     35157       10886            70028        96137   \n",
       "\n",
       "     GeneralMerchandise  BuildingMaterials  \n",
       "275               75782              24037  \n",
       "276               49843              20708  \n",
       "277               49471              19470  \n",
       "278               55122              25912  \n",
       "279               52865              30742  \n",
       "..                  ...                ...  \n",
       "331               61777              32375  \n",
       "332               54785              29963  \n",
       "333               58872              32629  \n",
       "334               66356              29793  \n",
       "335               77926              28621  \n",
       "\n",
       "[61 rows x 7 columns]"
      ]
     },
     "execution_count": 5,
     "metadata": {},
     "output_type": "execute_result"
    }
   ],
   "source": [
    "data"
   ]
  },
  {
   "cell_type": "code",
   "execution_count": 6,
   "metadata": {},
   "outputs": [
    {
     "data": {
      "text/plain": [
       "array(['2014-12-01T00:00:00.000000000', '2015-12-01T00:00:00.000000000',\n",
       "       '2016-12-01T00:00:00.000000000', '2017-12-01T00:00:00.000000000',\n",
       "       '2018-12-01T00:00:00.000000000', '2019-12-01T00:00:00.000000000'],\n",
       "      dtype='datetime64[ns]')"
      ]
     },
     "execution_count": 6,
     "metadata": {},
     "output_type": "execute_result"
    }
   ],
   "source": [
    "data['Month'].values[0::12]"
   ]
  },
  {
   "cell_type": "code",
   "execution_count": 7,
   "metadata": {},
   "outputs": [
    {
     "name": "stderr",
     "output_type": "stream",
     "text": [
      "f:\\Vendors\\Anaconda\\lib\\site-packages\\seaborn\\_oldcore.py:1498: FutureWarning: is_categorical_dtype is deprecated and will be removed in a future version. Use isinstance(dtype, CategoricalDtype) instead\n",
      "  if pd.api.types.is_categorical_dtype(vector):\n",
      "f:\\Vendors\\Anaconda\\lib\\site-packages\\seaborn\\_oldcore.py:1498: FutureWarning: is_categorical_dtype is deprecated and will be removed in a future version. Use isinstance(dtype, CategoricalDtype) instead\n",
      "  if pd.api.types.is_categorical_dtype(vector):\n",
      "f:\\Vendors\\Anaconda\\lib\\site-packages\\seaborn\\_oldcore.py:1119: FutureWarning: use_inf_as_na option is deprecated and will be removed in a future version. Convert inf values to NaN before operating instead.\n",
      "  with pd.option_context('mode.use_inf_as_na', True):\n",
      "f:\\Vendors\\Anaconda\\lib\\site-packages\\seaborn\\_oldcore.py:1119: FutureWarning: use_inf_as_na option is deprecated and will be removed in a future version. Convert inf values to NaN before operating instead.\n",
      "  with pd.option_context('mode.use_inf_as_na', True):\n"
     ]
    },
    {
     "data": {
      "text/plain": [
       "Text(0, 0.5, 'Clothing')"
      ]
     },
     "execution_count": 7,
     "metadata": {},
     "output_type": "execute_result"
    },
    {
     "data": {
      "image/png": "[encoded data removed]",
      "text/plain": [
       "<Figure size 1000x500 with 1 Axes>"
      ]
     },
     "metadata": {},
     "output_type": "display_data"
    }
   ],
   "source": [
    "plt.figure(figsize=(10,5))\n",
    "sns.lineplot(x='Month', y='Clothing', data=data)\n",
    "plt.title(\"US Retail Sale - Clothing\", fontsize=15)\n",
    "_ = plt.xticks(sorted([\n",
    "       '2015-01-01T00:00:00.000000000', '2016-01-01T00:00:00.000000000',\n",
    "       '2017-01-01T00:00:00.000000000', '2018-01-01T00:00:00.000000000',\n",
    "       '2019-01-01T00:00:00.000000000']),fontsize=15)\n",
    "plt.xlabel('Month',fontsize=15)\n",
    "plt.yticks(fontsize=15)\n",
    "plt.ylabel('Clothing',fontsize=15)"
   ]
  },
  {
   "cell_type": "code",
   "execution_count": null,
   "metadata": {},
   "outputs": [],
   "source": []
  },
  {
   "cell_type": "code",
   "execution_count": 8,
   "metadata": {},
   "outputs": [],
   "source": [
    "df = df[['Month',\"Clothing\"]]"
   ]
  },
  {
   "cell_type": "code",
   "execution_count": 9,
   "metadata": {},
   "outputs": [
    {
     "name": "stdout",
     "output_type": "stream",
     "text": [
      "         Month  Clothing    lag_1    lag_2    lag_3   lag_12\n",
      "0   1992-01-01      6938      NaN      NaN      NaN      NaN\n",
      "1   1992-02-01      7524   6938.0      NaN      NaN      NaN\n",
      "2   1992-03-01      8475   7524.0   6938.0      NaN      NaN\n",
      "3   1992-04-01      9401   8475.0   7524.0   6938.0      NaN\n",
      "4   1992-05-01      9558   9401.0   8475.0   7524.0      NaN\n",
      "..         ...       ...      ...      ...      ...      ...\n",
      "331 2019-08-01     23829  21742.0  21116.0  23079.0  23121.0\n",
      "332 2019-09-01     19567  23829.0  21742.0  21116.0  19782.0\n",
      "333 2019-10-01     21400  19567.0  23829.0  21742.0  21203.0\n",
      "334 2019-11-01     25170  21400.0  19567.0  23829.0  25364.0\n",
      "335 2019-12-01     35157  25170.0  21400.0  19567.0  33950.0\n",
      "\n",
      "[336 rows x 6 columns]\n"
     ]
    }
   ],
   "source": [
    "df['lag_1'] = df['Clothing'].shift(1)\n",
    "df['lag_2'] = df['Clothing'].shift(2)\n",
    "df['lag_3'] = df['Clothing'].shift(3)\n",
    "df['lag_12'] = df['Clothing'].shift(12)\n",
    "\n",
    "print(df)"
   ]
  },
  {
   "cell_type": "code",
   "execution_count": 10,
   "metadata": {},
   "outputs": [
    {
     "name": "stdout",
     "output_type": "stream",
     "text": [
      "         Month  Clothing    lag_1    lag_2    lag_3   lag_12\n",
      "0   1992-01-01      6938      NaN      NaN      NaN      NaN\n",
      "1   1992-02-01      7524   6938.0      NaN      NaN      NaN\n",
      "2   1992-03-01      8475   7524.0   6938.0      NaN      NaN\n",
      "3   1992-04-01      9401   8475.0   7524.0   6938.0      NaN\n",
      "4   1992-05-01      9558   9401.0   8475.0   7524.0      NaN\n",
      "..         ...       ...      ...      ...      ...      ...\n",
      "331 2019-08-01     23829  21742.0  21116.0  23079.0  23121.0\n",
      "332 2019-09-01     19567  23829.0  21742.0  21116.0  19782.0\n",
      "333 2019-10-01     21400  19567.0  23829.0  21742.0  21203.0\n",
      "334 2019-11-01     25170  21400.0  19567.0  23829.0  25364.0\n",
      "335 2019-12-01     35157  25170.0  21400.0  19567.0  33950.0\n",
      "\n",
      "[336 rows x 6 columns]\n"
     ]
    }
   ],
   "source": [
    "print(df)"
   ]
  },
  {
   "cell_type": "code",
   "execution_count": 11,
   "metadata": {},
   "outputs": [
    {
     "data": {
      "text/html": [
       "<div>\n",
       "<style scoped>\n",
       "    .dataframe tbody tr th:only-of-type {\n",
       "        vertical-align: middle;\n",
       "    }\n",
       "\n",
       "    .dataframe tbody tr th {\n",
       "        vertical-align: top;\n",
       "    }\n",
       "\n",
       "    .dataframe thead th {\n",
       "        text-align: right;\n",
       "    }\n",
       "</style>\n",
       "<table border=\"1\" class=\"dataframe\">\n",
       "  <thead>\n",
       "    <tr style=\"text-align: right;\">\n",
       "      <th></th>\n",
       "      <th>Clothing</th>\n",
       "      <th>lag_1</th>\n",
       "    </tr>\n",
       "  </thead>\n",
       "  <tbody>\n",
       "    <tr>\n",
       "      <th>Clothing</th>\n",
       "      <td>1.000000</td>\n",
       "      <td>0.518296</td>\n",
       "    </tr>\n",
       "    <tr>\n",
       "      <th>lag_1</th>\n",
       "      <td>0.518296</td>\n",
       "      <td>1.000000</td>\n",
       "    </tr>\n",
       "  </tbody>\n",
       "</table>\n",
       "</div>"
      ],
      "text/plain": [
       "          Clothing     lag_1\n",
       "Clothing  1.000000  0.518296\n",
       "lag_1     0.518296  1.000000"
      ]
     },
     "execution_count": 11,
     "metadata": {},
     "output_type": "execute_result"
    }
   ],
   "source": [
    "df[['Clothing','lag_1']].dropna().corr()"
   ]
  },
  {
   "cell_type": "code",
   "execution_count": 12,
   "metadata": {},
   "outputs": [
    {
     "data": {
      "image/png": "[encoded data removed]",
      "text/plain": [
       "<Figure size 1000x500 with 1 Axes>"
      ]
     },
     "metadata": {},
     "output_type": "display_data"
    }
   ],
   "source": [
    "import matplotlib.pyplot as plt\n",
    "from statsmodels.graphics.tsaplots import plot_acf,plot_pacf\n",
    "from statsmodels.api import tsa,tools\n",
    "from statsmodels import stats\n",
    "fig, ax = plt.subplots(figsize=(10, 5))\n",
    "\n",
    "plot_acf(df['Clothing'], lags=30, ax=ax)\n",
    "_ =plt.xticks(list(range(31)))\n",
    "plt.xlabel('Lag')\n",
    "plt.ylabel('Correlation')\n",
    "plt.show()\n"
   ]
  },
  {
   "cell_type": "code",
   "execution_count": 13,
   "metadata": {},
   "outputs": [
    {
     "data": {
      "text/plain": [
       "array([1.        , 0.50679045, 0.42793583, 0.48943282, 0.54920848,\n",
       "       0.51760066, 0.47709491, 0.50840091, 0.5311846 , 0.46104267,\n",
       "       0.38738473, 0.45582436, 0.9264336 , 0.45220705, 0.37936738,\n",
       "       0.43736208, 0.49102051, 0.46205604, 0.42158496, 0.4519868 ,\n",
       "       0.47432784, 0.403097  , 0.33531148, 0.40104508, 0.85039363,\n",
       "       0.39243258])"
      ]
     },
     "execution_count": 13,
     "metadata": {},
     "output_type": "execute_result"
    }
   ],
   "source": [
    "tsa.acf(df['Clothing'])"
   ]
  },
  {
   "cell_type": "code",
   "execution_count": 14,
   "metadata": {},
   "outputs": [
    {
     "data": {
      "text/plain": [
       "array([1.        , 0.50830326, 0.43049832, 0.49384212, 0.55582545,\n",
       "       0.5254194 , 0.48576936, 0.51921795, 0.54414032, 0.47373192,\n",
       "       0.39926769, 0.47125226, 0.96074595, 0.47040733, 0.39586161,\n",
       "       0.45779956, 0.51557153, 0.48667972, 0.44544826, 0.47907749,\n",
       "       0.50434859, 0.42997013, 0.35880464, 0.43051484, 0.91580852,\n",
       "       0.42397861])"
      ]
     },
     "execution_count": 14,
     "metadata": {},
     "output_type": "execute_result"
    }
   ],
   "source": [
    "tsa.acf(df['Clothing'],adjusted=True)"
   ]
  },
  {
   "cell_type": "code",
   "execution_count": 15,
   "metadata": {},
   "outputs": [
    {
     "data": {
      "text/plain": [
       "array([1.        , 0.50679045, 0.42793583, 0.48943282, 0.54920848,\n",
       "       0.51760066, 0.47709491, 0.50840091, 0.5311846 , 0.46104267,\n",
       "       0.38738473, 0.45582436, 0.9264336 , 0.45220705, 0.37936738,\n",
       "       0.43736208, 0.49102051, 0.46205604, 0.42158496, 0.4519868 ,\n",
       "       0.47432784, 0.403097  , 0.33531148, 0.40104508, 0.85039363,\n",
       "       0.39243258])"
      ]
     },
     "execution_count": 15,
     "metadata": {},
     "output_type": "execute_result"
    }
   ],
   "source": [
    "tsa.acf(df['Clothing'],adjusted=False)"
   ]
  },
  {
   "cell_type": "code",
   "execution_count": null,
   "metadata": {},
   "outputs": [],
   "source": []
  },
  {
   "cell_type": "code",
   "execution_count": 16,
   "metadata": {},
   "outputs": [
    {
     "data": {
      "image/png": "[encoded data removed]",
      "text/plain": [
       "<Figure size 1000x500 with 1 Axes>"
      ]
     },
     "execution_count": 16,
     "metadata": {},
     "output_type": "execute_result"
    }
   ],
   "source": [
    "plot_pacf(df['Clothing'], lags=30, ax=ax)\n"
   ]
  },
  {
   "cell_type": "code",
   "execution_count": 17,
   "metadata": {},
   "outputs": [
    {
     "data": {
      "text/plain": [
       "array([ 1.        ,  0.50830326,  0.23209232,  0.2961932 ,  0.30668111,\n",
       "        0.20061889,  0.12641833,  0.16345505,  0.16210775,  0.02322619,\n",
       "       -0.09510081,  0.02911707,  0.93643412, -0.94558834,  0.82223933,\n",
       "       -1.41787782, -0.29195182, -6.37441734, -0.0814961 ,  0.85104861,\n",
       "       -0.74003286,  0.74636178,  1.37283571,  2.47498263, -2.98051722,\n",
       "       -1.07575445])"
      ]
     },
     "execution_count": 17,
     "metadata": {},
     "output_type": "execute_result"
    }
   ],
   "source": [
    "tsa.pacf(df['Clothing'])"
   ]
  },
  {
   "cell_type": "code",
   "execution_count": 19,
   "metadata": {},
   "outputs": [
    {
     "data": {
      "text/plain": [
       "array([1.        , 0.50679045, 0.42793583, 0.48943282, 0.54920848,\n",
       "       0.51760066, 0.47709491, 0.50840091, 0.5311846 , 0.46104267,\n",
       "       0.38738473, 0.45582436, 0.9264336 , 0.45220705, 0.37936738,\n",
       "       0.43736208, 0.49102051, 0.46205604, 0.42158496, 0.4519868 ,\n",
       "       0.47432784, 0.403097  , 0.33531148, 0.40104508, 0.85039363,\n",
       "       0.39243258])"
      ]
     },
     "execution_count": 19,
     "metadata": {},
     "output_type": "execute_result"
    }
   ],
   "source": [
    "tsa.acf(df['Clothing'])"
   ]
  },
  {
   "cell_type": "code",
   "execution_count": 21,
   "metadata": {},
   "outputs": [
    {
     "data": {
      "text/plain": [
       "array([ 2.99114520e+07,  1.52040886e+07,  1.28768298e+07,  1.47715350e+07,\n",
       "        1.66255461e+07,  1.57160572e+07,  1.45300670e+07,  1.55305628e+07,\n",
       "        1.62760272e+07,  1.41700094e+07,  1.19426765e+07,  1.40958393e+07,\n",
       "        2.87373064e+07,  1.40705663e+07,  1.18407955e+07,  1.36934495e+07,\n",
       "        1.54214931e+07,  1.45572971e+07,  1.33240044e+07,  1.43299034e+07,\n",
       "        1.50857987e+07,  1.28610309e+07,  1.07323677e+07,  1.28773240e+07,\n",
       "        2.73931626e+07,  1.26818157e+07,  1.05370669e+07,  1.23852992e+07,\n",
       "        1.41006279e+07,  1.31743249e+07,  1.19111063e+07,  1.29616255e+07,\n",
       "        1.37719381e+07,  1.14266511e+07,  9.41899606e+06,  1.15503467e+07,\n",
       "        2.60304013e+07,  1.13212442e+07,  9.22892115e+06,  1.10499532e+07,\n",
       "        1.27300656e+07,  1.17716176e+07,  1.05421207e+07,  1.15942731e+07,\n",
       "        1.23137571e+07,  9.99089994e+06,  8.03488699e+06,  1.00882158e+07,\n",
       "        2.45136453e+07,  9.79880778e+06,  7.75416645e+06,  9.61503357e+06,\n",
       "        1.12244065e+07,  1.02327560e+07,  9.05612799e+06,  1.00867256e+07,\n",
       "        1.07673975e+07,  8.40077660e+06,  6.41214363e+06,  8.55952089e+06,\n",
       "        2.29738642e+07,  8.14003710e+06,  6.15486671e+06,  8.03120036e+06,\n",
       "        9.50696028e+06,  8.52755760e+06,  7.34978718e+06,  8.29198132e+06,\n",
       "        9.06858791e+06,  6.62128016e+06,  4.62324294e+06,  6.84799170e+06,\n",
       "        2.12160905e+07,  6.29065631e+06,  4.45510971e+06,  6.31619802e+06,\n",
       "        7.71036138e+06,  6.81752257e+06,  5.61661658e+06,  6.47680716e+06,\n",
       "        7.31677352e+06,  4.79278727e+06,  2.82720818e+06,  5.14512289e+06,\n",
       "        1.93955756e+07,  4.42509542e+06,  2.64287611e+06,  4.51666730e+06,\n",
       "        5.82145825e+06,  4.97552043e+06,  3.74004906e+06,  4.60375219e+06,\n",
       "        5.47115879e+06,  2.79819656e+06,  9.71655144e+05,  3.31898364e+06,\n",
       "        1.74834072e+07,  2.49878711e+06,  7.58248183e+05,  2.58975234e+06,\n",
       "        3.89924243e+06,  3.06206387e+06,  1.76635052e+06,  2.69320821e+06,\n",
       "        3.51147907e+06,  7.37040312e+05, -9.86992898e+05,  1.46930192e+06,\n",
       "        1.55705959e+07,  6.46193059e+05, -1.08108233e+06,  7.85796077e+05,\n",
       "        2.09500449e+06,  1.22190303e+06, -1.94855698e+04,  9.21555619e+05,\n",
       "        1.65545060e+06, -1.07359648e+06, -2.77899288e+06, -2.64401979e+05,\n",
       "        1.38727015e+07, -1.26843422e+06, -2.89838304e+06, -9.16878272e+05,\n",
       "        3.26921571e+05, -5.62779824e+05, -1.74839881e+06, -8.63145367e+05,\n",
       "       -1.40668951e+05, -2.88891605e+06, -4.58592519e+06, -1.93307501e+06,\n",
       "        1.23123704e+07, -3.06672258e+06, -4.69987802e+06, -2.67671324e+06,\n",
       "       -1.51139263e+06, -2.34403532e+06, -3.59227791e+06, -2.83655962e+06,\n",
       "       -2.08856664e+06, -4.93033735e+06, -6.79373975e+06, -4.03155315e+06,\n",
       "        1.02086930e+07, -5.41145099e+06, -7.05480785e+06, -5.07565342e+06,\n",
       "       -4.06422394e+06, -4.85111497e+06, -6.11868033e+06, -5.42681700e+06,\n",
       "       -4.59242493e+06, -7.61002043e+06, -9.47822536e+06, -6.61928610e+06,\n",
       "        7.42524512e+06, -8.11995393e+06, -9.72672282e+06, -7.79716539e+06,\n",
       "       -6.79581949e+06, -7.57790695e+06, -8.89531706e+06, -8.16584736e+06,\n",
       "       -7.25993528e+06, -1.03880719e+07, -1.21332664e+07, -9.28563416e+06,\n",
       "        4.53902225e+06, -1.06413549e+07, -1.22865706e+07, -1.03801713e+07,\n",
       "       -9.31951285e+06, -1.00844734e+07, -1.13679573e+07, -1.05656940e+07,\n",
       "       -9.69896903e+06, -1.27146708e+07, -1.44007116e+07, -1.15349857e+07,\n",
       "        2.01182617e+06, -1.28184014e+07, -1.44327071e+07, -1.23983626e+07,\n",
       "       -1.13798493e+07, -1.21531915e+07, -1.33795655e+07, -1.24809411e+07,\n",
       "       -1.16815828e+07, -1.46541413e+07, -1.63378263e+07, -1.33959153e+07,\n",
       "       -4.24600414e+04, -1.47262283e+07, -1.63213982e+07, -1.42036159e+07,\n",
       "       -1.32290097e+07, -1.40996418e+07, -1.52628861e+07, -1.43973634e+07,\n",
       "       -1.36228308e+07, -1.65665610e+07, -1.83660075e+07, -1.53359386e+07,\n",
       "       -2.15879248e+06, -1.68869647e+07, -1.85182097e+07, -1.64676927e+07,\n",
       "       -1.56622831e+07, -1.66377357e+07, -1.78251481e+07, -1.71686231e+07,\n",
       "       -1.64360398e+07, -1.95224807e+07, -2.14306835e+07, -1.83272563e+07,\n",
       "       -5.21316926e+06, -2.00438682e+07, -2.17264665e+07, -1.95597929e+07,\n",
       "       -1.89057463e+07, -1.97981147e+07, -2.10017056e+07, -2.03555067e+07,\n",
       "       -1.95944180e+07, -2.29679018e+07, -2.48241638e+07, -2.15635152e+07,\n",
       "       -8.36845365e+06, -2.32125510e+07, -2.49407306e+07, -2.28332056e+07,\n",
       "       -2.23665663e+07, -2.31734112e+07, -2.44259872e+07, -2.37559871e+07,\n",
       "       -2.29946000e+07, -2.64246535e+07, -2.82212751e+07, -2.49384660e+07,\n",
       "       -1.17009235e+07, -2.63606679e+07, -2.81415044e+07, -2.60246716e+07,\n",
       "       -2.55040654e+07, -2.61941708e+07, -2.74847652e+07, -2.67597998e+07,\n",
       "       -2.60120338e+07, -2.94817508e+07, -3.12528841e+07, -2.78074627e+07,\n",
       "       -1.46269435e+07, -2.90856217e+07, -3.10070608e+07, -2.89904591e+07,\n",
       "       -2.84119286e+07, -2.91352379e+07, -3.03041616e+07, -2.95528001e+07,\n",
       "       -2.87585773e+07, -3.22741306e+07, -3.40535293e+07, -3.04145274e+07,\n",
       "       -1.70616882e+07, -3.15452434e+07, -3.36044825e+07, -3.15971337e+07,\n",
       "       -3.12276043e+07, -3.18525774e+07, -3.29182170e+07, -3.22328054e+07,\n",
       "       -3.14230955e+07, -3.47998150e+07, -3.67653400e+07, -3.28948032e+07,\n",
       "       -1.91433908e+07, -3.36125505e+07, -3.57577969e+07, -3.37111330e+07,\n",
       "       -3.35236432e+07, -3.41228563e+07, -3.49831713e+07, -3.43317923e+07,\n",
       "       -3.33347323e+07, -3.71653908e+07, -3.90839603e+07, -3.50089400e+07,\n",
       "       -2.08003541e+07, -3.56391512e+07, -3.80681907e+07, -3.59552609e+07,\n",
       "       -3.58887169e+07, -3.64622410e+07, -3.74594977e+07, -3.68284828e+07,\n",
       "       -3.57209184e+07, -3.99255942e+07, -4.19180438e+07, -3.73192587e+07,\n",
       "       -2.23881970e+07, -3.72986194e+07, -4.01612805e+07, -3.86818070e+07,\n",
       "       -3.86630478e+07, -3.91578344e+07, -4.04347703e+07, -3.98393112e+07,\n",
       "       -3.88106180e+07, -4.34590892e+07, -4.55527715e+07, -4.07666673e+07,\n",
       "       -2.49742230e+07, -4.02518780e+07, -4.38824134e+07, -4.28050773e+07,\n",
       "       -4.32458502e+07, -4.39521277e+07, -4.52258167e+07, -4.44551123e+07,\n",
       "       -4.36898847e+07, -5.02276551e+07, -5.24890467e+07, -4.69639464e+07,\n",
       "       -2.62590590e+07, -4.37781376e+07, -5.02577472e+07, -5.24579634e+07,\n",
       "       -5.39439168e+07, -5.82054296e+07, -6.19978662e+07, -6.55577079e+07,\n",
       "       -6.87909087e+07, -9.12978165e+07, -1.24801960e+08, -1.77615563e+08])"
      ]
     },
     "execution_count": 21,
     "metadata": {},
     "output_type": "execute_result"
    }
   ],
   "source": [
    "tsa.stattools.ccovf(df['Clothing'], df['Clothing'])"
   ]
  },
  {
   "cell_type": "code",
   "execution_count": 32,
   "metadata": {},
   "outputs": [
    {
     "data": {
      "text/plain": [
       "array([ 1.        ,  0.54052198, -0.23626374, -0.82554945, -0.72252747,\n",
       "       -0.13392857,  0.50274725,  0.75      ,  0.39148352, -0.18337912,\n",
       "       -0.6043956 , -0.50137363, -0.08104396,  0.35370879,  0.5       ])"
      ]
     },
     "execution_count": 32,
     "metadata": {},
     "output_type": "execute_result"
    }
   ],
   "source": [
    "tsa.acf([1,2,3,4,3,2,1,1,2,3,4,3,2,1,1,2,3,4,3,2,1,1,2,3,4,3,2,1])"
   ]
  },
  {
   "cell_type": "code",
   "execution_count": 34,
   "metadata": {},
   "outputs": [],
   "source": [
    "import numpy as np\n",
    "def acf(x, length=20):\n",
    "    return np.array([1]+[np.corrcoef(x[:-i], x[i:])[0,1]  \\\n",
    "        for i in range(1, length)])"
   ]
  },
  {
   "cell_type": "code",
   "execution_count": 35,
   "metadata": {},
   "outputs": [
    {
     "data": {
      "text/plain": [
       "array([1.        , 0.51829563, 0.4412984 , 0.50712655, 0.57091868,\n",
       "       0.54120062, 0.50125515, 0.53650925, 0.56321496, 0.49123905,\n",
       "       0.41489305, 0.48891059, 0.99187266, 0.4964184 , 0.42131472,\n",
       "       0.48804561, 0.54967922, 0.52073172, 0.47823929, 0.51507768])"
      ]
     },
     "execution_count": 35,
     "metadata": {},
     "output_type": "execute_result"
    }
   ],
   "source": [
    "acf(df['Clothing'])"
   ]
  },
  {
   "cell_type": "code",
   "execution_count": 50,
   "metadata": {},
   "outputs": [
    {
     "data": {
      "text/plain": [
       "array([[1.        , 0.52450451],\n",
       "       [0.52450451, 1.        ]])"
      ]
     },
     "execution_count": 50,
     "metadata": {},
     "output_type": "execute_result"
    }
   ],
   "source": [
    "np.corrcoef(df[[\"Clothing\",\"lag_1\"]].fillna(0).transpose().to_numpy())"
   ]
  },
  {
   "cell_type": "code",
   "execution_count": 47,
   "metadata": {},
   "outputs": [
    {
     "data": {
      "text/plain": [
       "array([[ 6938.,  7524.,  8475.,  9401.,  9558.,  9182.,  9103., 10513.,\n",
       "         9573., 10254., 11187., 18395.,  7502.,  7524.,  8766.,  9867.,\n",
       "        10063.,  9635.,  9794., 10628., 10013., 10346., 11760., 18851.,\n",
       "         7280.,  7902.,  9921.,  9869., 10009.,  9893.,  9735., 11157.,\n",
       "        10217., 10730., 12354., 20016.,  7518.,  7961.,  9815., 10168.,\n",
       "        10620., 10301.,  9784., 11264., 10710., 10439., 12751., 20002.,\n",
       "         7684.,  8991., 10349., 10570., 11405., 10554., 10202., 12134.,\n",
       "        10623., 11250., 12875., 19944.,  8194.,  8835., 10840., 10131.,\n",
       "        11505., 10654., 10734., 12461., 10942., 11635., 13244., 21118.,\n",
       "         8800.,  9499., 10863., 11825., 12239., 11451., 11633., 12971.,\n",
       "        11214., 12384., 13854., 22418.,  9237., 10171., 12081., 12386.,\n",
       "        13167., 12280., 12461., 13734., 12357., 12948., 14643., 24286.,\n",
       "         9447., 11170., 12841., 13124., 13735., 12953., 12500., 14610.,\n",
       "        13375., 13369., 15675., 24875., 10060., 11450., 13067., 13362.,\n",
       "        13787., 12935., 12600., 14818., 12104., 13218., 15352., 24534.,\n",
       "        10344., 11730., 13977., 13195., 14150., 13210., 12873., 15113.,\n",
       "        12445., 14006., 15911., 25350., 10804., 11662., 13452., 13691.,\n",
       "        14730., 13496., 13854., 15522., 13567., 14601., 16555., 26760.,\n",
       "        11790., 13344., 14760., 15058., 15379., 14237., 14667., 15588.,\n",
       "        14224., 15570., 17230., 28406., 12046., 13878., 15727., 15708.,\n",
       "        15989., 15559., 15218., 16697., 14960., 16509., 18402., 30276.,\n",
       "        12893., 14474., 16386., 16848., 17103., 16505., 16275., 17832.,\n",
       "        16767., 17253., 19391., 31462., 13927., 15077., 18045., 17096.,\n",
       "        18474., 17289., 16883., 18850., 16765., 17614., 20550., 30635.,\n",
       "        14173., 15876., 17770., 17103., 19084., 17007., 17369., 19041.,\n",
       "        15882., 16796., 18756., 26726., 13387., 14684., 15563., 16337.,\n",
       "        17264., 15434., 16007., 17656., 15630., 17053., 18332., 27128.,\n",
       "        13216., 14816., 17390., 17042., 17727., 16138., 16842., 17923.,\n",
       "        16232., 17412., 20003., 28545., 13703., 15931., 18252., 18647.,\n",
       "        18771., 17783., 17937., 19263., 17999., 18255., 20957., 31108.,\n",
       "        14358., 17931., 20162., 18601., 19952., 18717., 18266., 20750.,\n",
       "        18391., 18845., 22016., 31504., 15165., 17397., 20591., 19194.,\n",
       "        20803., 18964., 19202., 21591., 18136., 19884., 22472., 31646.,\n",
       "        15220., 17552., 20118., 20370., 21626., 19006., 19885., 22055.,\n",
       "        18692., 20267., 23551., 32760., 15840., 18079., 20819., 20470.,\n",
       "        22239., 19758., 20671., 22424., 19233., 20750., 23122., 33521.,\n",
       "        15753., 19011., 21555., 20493., 21752., 20251., 20759., 22479.,\n",
       "        19904., 20626., 23800., 34824., 15907., 18020., 21332., 21143.,\n",
       "        21945., 20618., 20795., 22775., 19909., 20469., 24560., 33923.,\n",
       "        15780., 18424., 22207., 20463., 23560., 21294., 21733., 23121.,\n",
       "        19782., 21203., 25364., 33950., 16155., 17961., 22059., 21500.,\n",
       "        23079., 21116., 21742., 23829., 19567., 21400., 25170., 35157.],\n",
       "       [   nan,  6938.,  7524.,  8475.,  9401.,  9558.,  9182.,  9103.,\n",
       "        10513.,  9573., 10254., 11187., 18395.,  7502.,  7524.,  8766.,\n",
       "         9867., 10063.,  9635.,  9794., 10628., 10013., 10346., 11760.,\n",
       "        18851.,  7280.,  7902.,  9921.,  9869., 10009.,  9893.,  9735.,\n",
       "        11157., 10217., 10730., 12354., 20016.,  7518.,  7961.,  9815.,\n",
       "        10168., 10620., 10301.,  9784., 11264., 10710., 10439., 12751.,\n",
       "        20002.,  7684.,  8991., 10349., 10570., 11405., 10554., 10202.,\n",
       "        12134., 10623., 11250., 12875., 19944.,  8194.,  8835., 10840.,\n",
       "        10131., 11505., 10654., 10734., 12461., 10942., 11635., 13244.,\n",
       "        21118.,  8800.,  9499., 10863., 11825., 12239., 11451., 11633.,\n",
       "        12971., 11214., 12384., 13854., 22418.,  9237., 10171., 12081.,\n",
       "        12386., 13167., 12280., 12461., 13734., 12357., 12948., 14643.,\n",
       "        24286.,  9447., 11170., 12841., 13124., 13735., 12953., 12500.,\n",
       "        14610., 13375., 13369., 15675., 24875., 10060., 11450., 13067.,\n",
       "        13362., 13787., 12935., 12600., 14818., 12104., 13218., 15352.,\n",
       "        24534., 10344., 11730., 13977., 13195., 14150., 13210., 12873.,\n",
       "        15113., 12445., 14006., 15911., 25350., 10804., 11662., 13452.,\n",
       "        13691., 14730., 13496., 13854., 15522., 13567., 14601., 16555.,\n",
       "        26760., 11790., 13344., 14760., 15058., 15379., 14237., 14667.,\n",
       "        15588., 14224., 15570., 17230., 28406., 12046., 13878., 15727.,\n",
       "        15708., 15989., 15559., 15218., 16697., 14960., 16509., 18402.,\n",
       "        30276., 12893., 14474., 16386., 16848., 17103., 16505., 16275.,\n",
       "        17832., 16767., 17253., 19391., 31462., 13927., 15077., 18045.,\n",
       "        17096., 18474., 17289., 16883., 18850., 16765., 17614., 20550.,\n",
       "        30635., 14173., 15876., 17770., 17103., 19084., 17007., 17369.,\n",
       "        19041., 15882., 16796., 18756., 26726., 13387., 14684., 15563.,\n",
       "        16337., 17264., 15434., 16007., 17656., 15630., 17053., 18332.,\n",
       "        27128., 13216., 14816., 17390., 17042., 17727., 16138., 16842.,\n",
       "        17923., 16232., 17412., 20003., 28545., 13703., 15931., 18252.,\n",
       "        18647., 18771., 17783., 17937., 19263., 17999., 18255., 20957.,\n",
       "        31108., 14358., 17931., 20162., 18601., 19952., 18717., 18266.,\n",
       "        20750., 18391., 18845., 22016., 31504., 15165., 17397., 20591.,\n",
       "        19194., 20803., 18964., 19202., 21591., 18136., 19884., 22472.,\n",
       "        31646., 15220., 17552., 20118., 20370., 21626., 19006., 19885.,\n",
       "        22055., 18692., 20267., 23551., 32760., 15840., 18079., 20819.,\n",
       "        20470., 22239., 19758., 20671., 22424., 19233., 20750., 23122.,\n",
       "        33521., 15753., 19011., 21555., 20493., 21752., 20251., 20759.,\n",
       "        22479., 19904., 20626., 23800., 34824., 15907., 18020., 21332.,\n",
       "        21143., 21945., 20618., 20795., 22775., 19909., 20469., 24560.,\n",
       "        33923., 15780., 18424., 22207., 20463., 23560., 21294., 21733.,\n",
       "        23121., 19782., 21203., 25364., 33950., 16155., 17961., 22059.,\n",
       "        21500., 23079., 21116., 21742., 23829., 19567., 21400., 25170.]])"
      ]
     },
     "execution_count": 47,
     "metadata": {},
     "output_type": "execute_result"
    }
   ],
   "source": [
    "df[[\"Clothing\",\"lag_1\"]].transpose().to_numpy()"
   ]
  },
  {
   "cell_type": "code",
   "execution_count": 51,
   "metadata": {},
   "outputs": [
    {
     "name": "stderr",
     "output_type": "stream",
     "text": [
      "f:\\Vendors\\Anaconda\\lib\\site-packages\\scipy\\signal\\_signaltools.py:241: RuntimeWarning: Use of fft convolution on input with NAN or inf results in NAN or inf output. Consider using method='direct' instead.\n",
      "  return convolve(in1, _reverse_and_conj(in2), mode, method)\n"
     ]
    },
    {
     "data": {
      "text/plain": [
       "array([nan, nan, nan, nan, nan, nan, nan, nan, nan, nan, nan, nan, nan,\n",
       "       nan, nan, nan, nan, nan, nan, nan, nan, nan, nan, nan, nan, nan,\n",
       "       nan, nan, nan, nan, nan, nan, nan, nan, nan, nan, nan, nan, nan,\n",
       "       nan, nan, nan, nan, nan, nan, nan, nan, nan, nan, nan, nan, nan,\n",
       "       nan, nan, nan, nan, nan, nan, nan, nan, nan, nan, nan, nan, nan,\n",
       "       nan, nan, nan, nan, nan, nan, nan, nan, nan, nan, nan, nan, nan,\n",
       "       nan, nan, nan, nan, nan, nan, nan, nan, nan, nan, nan, nan, nan,\n",
       "       nan, nan, nan, nan, nan, nan, nan, nan, nan, nan, nan, nan, nan,\n",
       "       nan, nan, nan, nan, nan, nan, nan, nan, nan, nan, nan, nan, nan,\n",
       "       nan, nan, nan, nan, nan, nan, nan, nan, nan, nan, nan, nan, nan,\n",
       "       nan, nan, nan, nan, nan, nan, nan, nan, nan, nan, nan, nan, nan,\n",
       "       nan, nan, nan, nan, nan, nan, nan, nan, nan, nan, nan, nan, nan,\n",
       "       nan, nan, nan, nan, nan, nan, nan, nan, nan, nan, nan, nan, nan,\n",
       "       nan, nan, nan, nan, nan, nan, nan, nan, nan, nan, nan, nan, nan,\n",
       "       nan, nan, nan, nan, nan, nan, nan, nan, nan, nan, nan, nan, nan,\n",
       "       nan, nan, nan, nan, nan, nan, nan, nan, nan, nan, nan, nan, nan,\n",
       "       nan, nan, nan, nan, nan, nan, nan, nan, nan, nan, nan, nan, nan,\n",
       "       nan, nan, nan, nan, nan, nan, nan, nan, nan, nan, nan, nan, nan,\n",
       "       nan, nan, nan, nan, nan, nan, nan, nan, nan, nan, nan, nan, nan,\n",
       "       nan, nan, nan, nan, nan, nan, nan, nan, nan, nan, nan, nan, nan,\n",
       "       nan, nan, nan, nan, nan, nan, nan, nan, nan, nan, nan, nan, nan,\n",
       "       nan, nan, nan, nan, nan, nan, nan, nan, nan, nan, nan, nan, nan,\n",
       "       nan, nan, nan, nan, nan, nan, nan, nan, nan, nan, nan, nan, nan,\n",
       "       nan, nan, nan, nan, nan, nan, nan, nan, nan, nan, nan, nan, nan,\n",
       "       nan, nan, nan, nan, nan, nan, nan, nan, nan, nan, nan, nan, nan,\n",
       "       nan, nan, nan, nan, nan, nan, nan, nan, nan, nan, nan])"
      ]
     },
     "execution_count": 51,
     "metadata": {},
     "output_type": "execute_result"
    }
   ],
   "source": [
    "tsa.ccf(df['Clothing'], df['lag_1'])"
   ]
  },
  {
   "cell_type": "code",
   "execution_count": 54,
   "metadata": {},
   "outputs": [
    {
     "data": {
      "text/plain": [
       "array([1.        , 0.50679045, 0.42793583, 0.48943282, 0.54920848,\n",
       "       0.51760066, 0.47709491, 0.50840091, 0.5311846 , 0.46104267,\n",
       "       0.38738473, 0.45582436, 0.9264336 , 0.45220705, 0.37936738,\n",
       "       0.43736208, 0.49102051, 0.46205604, 0.42158496, 0.4519868 ,\n",
       "       0.47432784, 0.403097  , 0.33531148, 0.40104508, 0.85039363,\n",
       "       0.39243258])"
      ]
     },
     "execution_count": 54,
     "metadata": {},
     "output_type": "execute_result"
    }
   ],
   "source": [
    "tsa.stattools.acf(df['Clothing'])"
   ]
  },
  {
   "cell_type": "code",
   "execution_count": 55,
   "metadata": {},
   "outputs": [],
   "source": [
    "import statsmodels"
   ]
  },
  {
   "cell_type": "code",
   "execution_count": 57,
   "metadata": {},
   "outputs": [
    {
     "name": "stdout",
     "output_type": "stream",
     "text": [
      "Defaulting to user installation because normal site-packages is not writeable\n",
      "Collecting statsmodels==0.14.1\n",
      "  Downloading statsmodels-0.14.1-cp310-cp310-win_amd64.whl (9.8 MB)\n",
      "     ---------------------------------------- 9.8/9.8 MB 2.4 MB/s eta 0:00:00\n",
      "Requirement already satisfied: pandas!=2.1.0,>=1.0 in c:\\users\\duclh3\\appdata\\roaming\\python\\python310\\site-packages (from statsmodels==0.14.1) (2.1.1)\n",
      "Requirement already satisfied: numpy<2,>=1.22.3 in f:\\vendors\\anaconda\\lib\\site-packages (from statsmodels==0.14.1) (1.23.5)\n",
      "Requirement already satisfied: scipy!=1.9.2,>=1.4 in f:\\vendors\\anaconda\\lib\\site-packages (from statsmodels==0.14.1) (1.10.0)\n",
      "Requirement already satisfied: packaging>=21.3 in f:\\vendors\\anaconda\\lib\\site-packages (from statsmodels==0.14.1) (23.0)\n",
      "Collecting patsy>=0.5.4\n",
      "  Downloading patsy-0.5.4-py2.py3-none-any.whl (233 kB)\n",
      "     -------------------------------------- 233.9/233.9 kB 2.4 MB/s eta 0:00:00\n",
      "Requirement already satisfied: tzdata>=2022.1 in c:\\users\\duclh3\\appdata\\roaming\\python\\python310\\site-packages (from pandas!=2.1.0,>=1.0->statsmodels==0.14.1) (2023.3)\n",
      "Requirement already satisfied: pytz>=2020.1 in f:\\vendors\\anaconda\\lib\\site-packages (from pandas!=2.1.0,>=1.0->statsmodels==0.14.1) (2022.7)\n",
      "Requirement already satisfied: python-dateutil>=2.8.2 in f:\\vendors\\anaconda\\lib\\site-packages (from pandas!=2.1.0,>=1.0->statsmodels==0.14.1) (2.8.2)\n",
      "Requirement already satisfied: six in f:\\vendors\\anaconda\\lib\\site-packages (from patsy>=0.5.4->statsmodels==0.14.1) (1.16.0)\n",
      "Installing collected packages: patsy, statsmodels\n",
      "Successfully installed patsy-0.5.4 statsmodels-0.14.1\n",
      "Note: you may need to restart the kernel to use updated packages.\n"
     ]
    }
   ],
   "source": [
    "%pip install statsmodels==0.14.1"
   ]
  },
  {
   "cell_type": "code",
   "execution_count": null,
   "metadata": {},
   "outputs": [],
   "source": []
  }
 ],
 "metadata": {
  "kernelspec": {
   "display_name": "Python 3",
   "language": "python",
   "name": "python3"
  },
  "language_info": {
   "codemirror_mode": {
    "name": "ipython",
    "version": 3
   },
   "file_extension": ".py",
   "mimetype": "text/x-python",
   "name": "python",
   "nbconvert_exporter": "python",
   "pygments_lexer": "ipython3",
   "version": "3.10.9"
  }
 },
 "nbformat": 4,
 "nbformat_minor": 2
}
