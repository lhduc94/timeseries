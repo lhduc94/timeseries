{
 "cells": [
  {
   "cell_type": "code",
   "execution_count": 1,
   "metadata": {},
   "outputs": [],
   "source": [
    "import pandas as pd\n",
    "import seaborn as sns\n",
    "import matplotlib.pyplot as plt"
   ]
  },
  {
   "cell_type": "code",
   "execution_count": 2,
   "metadata": {},
   "outputs": [
    {
     "data": {
      "text/html": [
       "<div>\n",
       "<style scoped>\n",
       "    .dataframe tbody tr th:only-of-type {\n",
       "        vertical-align: middle;\n",
       "    }\n",
       "\n",
       "    .dataframe tbody tr th {\n",
       "        vertical-align: top;\n",
       "    }\n",
       "\n",
       "    .dataframe thead th {\n",
       "        text-align: right;\n",
       "    }\n",
       "</style>\n",
       "<table border=\"1\" class=\"dataframe\">\n",
       "  <thead>\n",
       "    <tr style=\"text-align: right;\">\n",
       "      <th></th>\n",
       "      <th>Month</th>\n",
       "      <th>Clothing</th>\n",
       "      <th>Appliances</th>\n",
       "      <th>FoodAndBeverage</th>\n",
       "      <th>Automobiles</th>\n",
       "      <th>GeneralMerchandise</th>\n",
       "      <th>BuildingMaterials</th>\n",
       "    </tr>\n",
       "  </thead>\n",
       "  <tbody>\n",
       "    <tr>\n",
       "      <th>0</th>\n",
       "      <td>1992-01</td>\n",
       "      <td>6938</td>\n",
       "      <td>3657</td>\n",
       "      <td>29589</td>\n",
       "      <td>26788</td>\n",
       "      <td>14996</td>\n",
       "      <td>8964</td>\n",
       "    </tr>\n",
       "    <tr>\n",
       "      <th>1</th>\n",
       "      <td>1992-02</td>\n",
       "      <td>7524</td>\n",
       "      <td>3490</td>\n",
       "      <td>28570</td>\n",
       "      <td>28203</td>\n",
       "      <td>16015</td>\n",
       "      <td>9023</td>\n",
       "    </tr>\n",
       "    <tr>\n",
       "      <th>2</th>\n",
       "      <td>1992-03</td>\n",
       "      <td>8475</td>\n",
       "      <td>3669</td>\n",
       "      <td>29682</td>\n",
       "      <td>31684</td>\n",
       "      <td>17984</td>\n",
       "      <td>10608</td>\n",
       "    </tr>\n",
       "    <tr>\n",
       "      <th>3</th>\n",
       "      <td>1992-04</td>\n",
       "      <td>9401</td>\n",
       "      <td>3527</td>\n",
       "      <td>30228</td>\n",
       "      <td>32547</td>\n",
       "      <td>18872</td>\n",
       "      <td>11630</td>\n",
       "    </tr>\n",
       "    <tr>\n",
       "      <th>4</th>\n",
       "      <td>1992-05</td>\n",
       "      <td>9558</td>\n",
       "      <td>3571</td>\n",
       "      <td>31677</td>\n",
       "      <td>32883</td>\n",
       "      <td>20037</td>\n",
       "      <td>12327</td>\n",
       "    </tr>\n",
       "  </tbody>\n",
       "</table>\n",
       "</div>"
      ],
      "text/plain": [
       "     Month  Clothing  Appliances  FoodAndBeverage  Automobiles  \\\n",
       "0  1992-01      6938        3657            29589        26788   \n",
       "1  1992-02      7524        3490            28570        28203   \n",
       "2  1992-03      8475        3669            29682        31684   \n",
       "3  1992-04      9401        3527            30228        32547   \n",
       "4  1992-05      9558        3571            31677        32883   \n",
       "\n",
       "   GeneralMerchandise  BuildingMaterials  \n",
       "0               14996               8964  \n",
       "1               16015               9023  \n",
       "2               17984              10608  \n",
       "3               18872              11630  \n",
       "4               20037              12327  "
      ]
     },
     "execution_count": 2,
     "metadata": {},
     "output_type": "execute_result"
    }
   ],
   "source": [
    "df = pd.read_csv('../data/us-retail-sales.csv')\n",
    "df.head()"
   ]
  },
  {
   "cell_type": "code",
   "execution_count": 3,
   "metadata": {},
   "outputs": [],
   "source": [
    "df['Month'] = pd.to_datetime(df['Month'])"
   ]
  },
  {
   "cell_type": "code",
   "execution_count": 5,
   "metadata": {},
   "outputs": [],
   "source": [
    "df = df[['Month',\"Clothing\"]]\n",
    "df = df[df.Month>=pd.to_datetime('2014-12-01')]"
   ]
  },
  {
   "cell_type": "code",
   "execution_count": 6,
   "metadata": {},
   "outputs": [
    {
     "name": "stderr",
     "output_type": "stream",
     "text": [
      "C:\\Users\\duclh3\\AppData\\Local\\Temp\\ipykernel_36044\\1916190564.py:1: SettingWithCopyWarning: \n",
      "A value is trying to be set on a copy of a slice from a DataFrame.\n",
      "Try using .loc[row_indexer,col_indexer] = value instead\n",
      "\n",
      "See the caveats in the documentation: https://pandas.pydata.org/pandas-docs/stable/user_guide/indexing.html#returning-a-view-versus-a-copy\n",
      "  df['lag_1'] = df['Clothing'].shift(1)\n",
      "C:\\Users\\duclh3\\AppData\\Local\\Temp\\ipykernel_36044\\1916190564.py:2: SettingWithCopyWarning: \n",
      "A value is trying to be set on a copy of a slice from a DataFrame.\n",
      "Try using .loc[row_indexer,col_indexer] = value instead\n",
      "\n",
      "See the caveats in the documentation: https://pandas.pydata.org/pandas-docs/stable/user_guide/indexing.html#returning-a-view-versus-a-copy\n",
      "  df['lag_2'] = df['Clothing'].shift(2)\n",
      "C:\\Users\\duclh3\\AppData\\Local\\Temp\\ipykernel_36044\\1916190564.py:3: SettingWithCopyWarning: \n",
      "A value is trying to be set on a copy of a slice from a DataFrame.\n",
      "Try using .loc[row_indexer,col_indexer] = value instead\n",
      "\n",
      "See the caveats in the documentation: https://pandas.pydata.org/pandas-docs/stable/user_guide/indexing.html#returning-a-view-versus-a-copy\n",
      "  df['lead_1'] = df['Clothing'].shift(-1)\n"
     ]
    }
   ],
   "source": [
    "df['lag_1'] = df['Clothing'].shift(1)\n",
    "df['lag_2'] = df['Clothing'].shift(2)\n",
    "df['lead_1'] = df['Clothing'].shift(-1)"
   ]
  },
  {
   "cell_type": "code",
   "execution_count": 8,
   "metadata": {},
   "outputs": [
    {
     "name": "stderr",
     "output_type": "stream",
     "text": [
      "C:\\Users\\duclh3\\AppData\\Local\\Temp\\ipykernel_36044\\1238535022.py:1: SettingWithCopyWarning: \n",
      "A value is trying to be set on a copy of a slice from a DataFrame.\n",
      "Try using .loc[row_indexer,col_indexer] = value instead\n",
      "\n",
      "See the caveats in the documentation: https://pandas.pydata.org/pandas-docs/stable/user_guide/indexing.html#returning-a-view-versus-a-copy\n",
      "  df['Centered_MA'] = (df['Clothing'] + df['lead_1'] + df['lag_1'])/3\n"
     ]
    }
   ],
   "source": [
    "df['Centered_MA'] = (df['Clothing'] + df['lead_1'] + df['lag_1'])/3"
   ]
  },
  {
   "cell_type": "code",
   "execution_count": 10,
   "metadata": {},
   "outputs": [],
   "source": [
    "df['Trailing_MA'] = (df['Clothing'] + df['lag_1'] + df['lag_2'])/3"
   ]
  },
  {
   "cell_type": "code",
   "execution_count": 11,
   "metadata": {},
   "outputs": [
    {
     "data": {
      "text/html": [
       "<div>\n",
       "<style scoped>\n",
       "    .dataframe tbody tr th:only-of-type {\n",
       "        vertical-align: middle;\n",
       "    }\n",
       "\n",
       "    .dataframe tbody tr th {\n",
       "        vertical-align: top;\n",
       "    }\n",
       "\n",
       "    .dataframe thead th {\n",
       "        text-align: right;\n",
       "    }\n",
       "</style>\n",
       "<table border=\"1\" class=\"dataframe\">\n",
       "  <thead>\n",
       "    <tr style=\"text-align: right;\">\n",
       "      <th></th>\n",
       "      <th>Month</th>\n",
       "      <th>Clothing</th>\n",
       "      <th>lag_1</th>\n",
       "      <th>lag_2</th>\n",
       "      <th>lead_1</th>\n",
       "      <th>Centered_MA</th>\n",
       "      <th>Trailing_MA</th>\n",
       "    </tr>\n",
       "  </thead>\n",
       "  <tbody>\n",
       "    <tr>\n",
       "      <th>0</th>\n",
       "      <td>1992-01-01</td>\n",
       "      <td>6938</td>\n",
       "      <td>NaN</td>\n",
       "      <td>NaN</td>\n",
       "      <td>7524.0</td>\n",
       "      <td>NaN</td>\n",
       "      <td>NaN</td>\n",
       "    </tr>\n",
       "    <tr>\n",
       "      <th>1</th>\n",
       "      <td>1992-02-01</td>\n",
       "      <td>7524</td>\n",
       "      <td>6938.0</td>\n",
       "      <td>NaN</td>\n",
       "      <td>8475.0</td>\n",
       "      <td>7645.666667</td>\n",
       "      <td>NaN</td>\n",
       "    </tr>\n",
       "    <tr>\n",
       "      <th>2</th>\n",
       "      <td>1992-03-01</td>\n",
       "      <td>8475</td>\n",
       "      <td>7524.0</td>\n",
       "      <td>6938.0</td>\n",
       "      <td>9401.0</td>\n",
       "      <td>8466.666667</td>\n",
       "      <td>7645.666667</td>\n",
       "    </tr>\n",
       "    <tr>\n",
       "      <th>3</th>\n",
       "      <td>1992-04-01</td>\n",
       "      <td>9401</td>\n",
       "      <td>8475.0</td>\n",
       "      <td>7524.0</td>\n",
       "      <td>9558.0</td>\n",
       "      <td>9144.666667</td>\n",
       "      <td>8466.666667</td>\n",
       "    </tr>\n",
       "    <tr>\n",
       "      <th>4</th>\n",
       "      <td>1992-05-01</td>\n",
       "      <td>9558</td>\n",
       "      <td>9401.0</td>\n",
       "      <td>8475.0</td>\n",
       "      <td>9182.0</td>\n",
       "      <td>9380.333333</td>\n",
       "      <td>9144.666667</td>\n",
       "    </tr>\n",
       "    <tr>\n",
       "      <th>...</th>\n",
       "      <td>...</td>\n",
       "      <td>...</td>\n",
       "      <td>...</td>\n",
       "      <td>...</td>\n",
       "      <td>...</td>\n",
       "      <td>...</td>\n",
       "      <td>...</td>\n",
       "    </tr>\n",
       "    <tr>\n",
       "      <th>331</th>\n",
       "      <td>2019-08-01</td>\n",
       "      <td>23829</td>\n",
       "      <td>21742.0</td>\n",
       "      <td>21116.0</td>\n",
       "      <td>19567.0</td>\n",
       "      <td>21712.666667</td>\n",
       "      <td>22229.000000</td>\n",
       "    </tr>\n",
       "    <tr>\n",
       "      <th>332</th>\n",
       "      <td>2019-09-01</td>\n",
       "      <td>19567</td>\n",
       "      <td>23829.0</td>\n",
       "      <td>21742.0</td>\n",
       "      <td>21400.0</td>\n",
       "      <td>21598.666667</td>\n",
       "      <td>21712.666667</td>\n",
       "    </tr>\n",
       "    <tr>\n",
       "      <th>333</th>\n",
       "      <td>2019-10-01</td>\n",
       "      <td>21400</td>\n",
       "      <td>19567.0</td>\n",
       "      <td>23829.0</td>\n",
       "      <td>25170.0</td>\n",
       "      <td>22045.666667</td>\n",
       "      <td>21598.666667</td>\n",
       "    </tr>\n",
       "    <tr>\n",
       "      <th>334</th>\n",
       "      <td>2019-11-01</td>\n",
       "      <td>25170</td>\n",
       "      <td>21400.0</td>\n",
       "      <td>19567.0</td>\n",
       "      <td>35157.0</td>\n",
       "      <td>27242.333333</td>\n",
       "      <td>22045.666667</td>\n",
       "    </tr>\n",
       "    <tr>\n",
       "      <th>335</th>\n",
       "      <td>2019-12-01</td>\n",
       "      <td>35157</td>\n",
       "      <td>25170.0</td>\n",
       "      <td>21400.0</td>\n",
       "      <td>NaN</td>\n",
       "      <td>NaN</td>\n",
       "      <td>27242.333333</td>\n",
       "    </tr>\n",
       "  </tbody>\n",
       "</table>\n",
       "<p>336 rows × 7 columns</p>\n",
       "</div>"
      ],
      "text/plain": [
       "         Month  Clothing    lag_1    lag_2   lead_1   Centered_MA  \\\n",
       "0   1992-01-01      6938      NaN      NaN   7524.0           NaN   \n",
       "1   1992-02-01      7524   6938.0      NaN   8475.0   7645.666667   \n",
       "2   1992-03-01      8475   7524.0   6938.0   9401.0   8466.666667   \n",
       "3   1992-04-01      9401   8475.0   7524.0   9558.0   9144.666667   \n",
       "4   1992-05-01      9558   9401.0   8475.0   9182.0   9380.333333   \n",
       "..         ...       ...      ...      ...      ...           ...   \n",
       "331 2019-08-01     23829  21742.0  21116.0  19567.0  21712.666667   \n",
       "332 2019-09-01     19567  23829.0  21742.0  21400.0  21598.666667   \n",
       "333 2019-10-01     21400  19567.0  23829.0  25170.0  22045.666667   \n",
       "334 2019-11-01     25170  21400.0  19567.0  35157.0  27242.333333   \n",
       "335 2019-12-01     35157  25170.0  21400.0      NaN           NaN   \n",
       "\n",
       "      Trailing_MA  \n",
       "0             NaN  \n",
       "1             NaN  \n",
       "2     7645.666667  \n",
       "3     8466.666667  \n",
       "4     9144.666667  \n",
       "..            ...  \n",
       "331  22229.000000  \n",
       "332  21712.666667  \n",
       "333  21598.666667  \n",
       "334  22045.666667  \n",
       "335  27242.333333  \n",
       "\n",
       "[336 rows x 7 columns]"
      ]
     },
     "execution_count": 11,
     "metadata": {},
     "output_type": "execute_result"
    }
   ],
   "source": [
    "df"
   ]
  },
  {
   "cell_type": "code",
   "execution_count": 19,
   "metadata": {},
   "outputs": [
    {
     "name": "stderr",
     "output_type": "stream",
     "text": [
      "f:\\Vendors\\Anaconda\\lib\\site-packages\\seaborn\\_oldcore.py:1498: FutureWarning: is_categorical_dtype is deprecated and will be removed in a future version. Use isinstance(dtype, CategoricalDtype) instead\n",
      "  if pd.api.types.is_categorical_dtype(vector):\n",
      "f:\\Vendors\\Anaconda\\lib\\site-packages\\seaborn\\_oldcore.py:1498: FutureWarning: is_categorical_dtype is deprecated and will be removed in a future version. Use isinstance(dtype, CategoricalDtype) instead\n",
      "  if pd.api.types.is_categorical_dtype(vector):\n",
      "f:\\Vendors\\Anaconda\\lib\\site-packages\\seaborn\\_oldcore.py:1119: FutureWarning: use_inf_as_na option is deprecated and will be removed in a future version. Convert inf values to NaN before operating instead.\n",
      "  with pd.option_context('mode.use_inf_as_na', True):\n",
      "f:\\Vendors\\Anaconda\\lib\\site-packages\\seaborn\\_oldcore.py:1119: FutureWarning: use_inf_as_na option is deprecated and will be removed in a future version. Convert inf values to NaN before operating instead.\n",
      "  with pd.option_context('mode.use_inf_as_na', True):\n",
      "f:\\Vendors\\Anaconda\\lib\\site-packages\\seaborn\\_oldcore.py:1498: FutureWarning: is_categorical_dtype is deprecated and will be removed in a future version. Use isinstance(dtype, CategoricalDtype) instead\n",
      "  if pd.api.types.is_categorical_dtype(vector):\n",
      "f:\\Vendors\\Anaconda\\lib\\site-packages\\seaborn\\_oldcore.py:1498: FutureWarning: is_categorical_dtype is deprecated and will be removed in a future version. Use isinstance(dtype, CategoricalDtype) instead\n",
      "  if pd.api.types.is_categorical_dtype(vector):\n",
      "f:\\Vendors\\Anaconda\\lib\\site-packages\\seaborn\\_oldcore.py:1119: FutureWarning: use_inf_as_na option is deprecated and will be removed in a future version. Convert inf values to NaN before operating instead.\n",
      "  with pd.option_context('mode.use_inf_as_na', True):\n",
      "f:\\Vendors\\Anaconda\\lib\\site-packages\\seaborn\\_oldcore.py:1119: FutureWarning: use_inf_as_na option is deprecated and will be removed in a future version. Convert inf values to NaN before operating instead.\n",
      "  with pd.option_context('mode.use_inf_as_na', True):\n"
     ]
    },
    {
     "data": {
      "text/plain": [
       "<Axes: xlabel='Month', ylabel='Centered_MA'>"
      ]
     },
     "execution_count": 19,
     "metadata": {},
     "output_type": "execute_result"
    },
    {
     "data": {
      "image/png": "[encoded data removed]",
      "text/plain": [
       "<Figure size 640x480 with 1 Axes>"
      ]
     },
     "metadata": {},
     "output_type": "display_data"
    }
   ],
   "source": [
    "# sns.lineplot(x='Month', y='Clothing', data=df, label='original')\n",
    "sns.lineplot(x='Month', y='Centered_MA', data=df, label='Centered_MA')\n",
    "sns.lineplot(x='Month', y='Centered_MA', data=df, label='Trailing_MA')"
   ]
  },
  {
   "cell_type": "code",
   "execution_count": null,
   "metadata": {},
   "outputs": [],
   "source": []
  }
 ],
 "metadata": {
  "kernelspec": {
   "display_name": "Python 3",
   "language": "python",
   "name": "python3"
  },
  "language_info": {
   "codemirror_mode": {
    "name": "ipython",
    "version": 3
   },
   "file_extension": ".py",
   "mimetype": "text/x-python",
   "name": "python",
   "nbconvert_exporter": "python",
   "pygments_lexer": "ipython3",
   "version": "3.10.9"
  }
 },
 "nbformat": 4,
 "nbformat_minor": 2
}
