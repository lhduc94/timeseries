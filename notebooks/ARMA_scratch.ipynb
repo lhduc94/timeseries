{
 "cells": [
  {
   "cell_type": "code",
   "execution_count": 34,
   "metadata": {},
   "outputs": [],
   "source": [
    "from statsmodels.tsa.ar_model import AutoReg\n",
    "import pandas as pd \n",
    "from sklearn.metrics import mean_squared_error\n",
    "import numpy as np\n",
    "import seaborn as sns\n",
    "import matplotlib.pyplot as plt"
   ]
  },
  {
   "cell_type": "code",
   "execution_count": 35,
   "metadata": {},
   "outputs": [
    {
     "data": {
      "text/html": [
       "<div>\n",
       "<style scoped>\n",
       "    .dataframe tbody tr th:only-of-type {\n",
       "        vertical-align: middle;\n",
       "    }\n",
       "\n",
       "    .dataframe tbody tr th {\n",
       "        vertical-align: top;\n",
       "    }\n",
       "\n",
       "    .dataframe thead th {\n",
       "        text-align: right;\n",
       "    }\n",
       "</style>\n",
       "<table border=\"1\" class=\"dataframe\">\n",
       "  <thead>\n",
       "    <tr style=\"text-align: right;\">\n",
       "      <th></th>\n",
       "      <th>Date</th>\n",
       "      <th>Births</th>\n",
       "    </tr>\n",
       "  </thead>\n",
       "  <tbody>\n",
       "    <tr>\n",
       "      <th>0</th>\n",
       "      <td>1959-01-01</td>\n",
       "      <td>35</td>\n",
       "    </tr>\n",
       "    <tr>\n",
       "      <th>1</th>\n",
       "      <td>1959-01-02</td>\n",
       "      <td>32</td>\n",
       "    </tr>\n",
       "    <tr>\n",
       "      <th>2</th>\n",
       "      <td>1959-01-03</td>\n",
       "      <td>30</td>\n",
       "    </tr>\n",
       "    <tr>\n",
       "      <th>3</th>\n",
       "      <td>1959-01-04</td>\n",
       "      <td>31</td>\n",
       "    </tr>\n",
       "    <tr>\n",
       "      <th>4</th>\n",
       "      <td>1959-01-05</td>\n",
       "      <td>44</td>\n",
       "    </tr>\n",
       "  </tbody>\n",
       "</table>\n",
       "</div>"
      ],
      "text/plain": [
       "         Date  Births\n",
       "0  1959-01-01      35\n",
       "1  1959-01-02      32\n",
       "2  1959-01-03      30\n",
       "3  1959-01-04      31\n",
       "4  1959-01-05      44"
      ]
     },
     "execution_count": 35,
     "metadata": {},
     "output_type": "execute_result"
    }
   ],
   "source": [
    "df = pd.read_csv('../data/daily-total-female-births.csv')\n",
    "df.head()\n"
   ]
  },
  {
   "cell_type": "code",
   "execution_count": 36,
   "metadata": {},
   "outputs": [],
   "source": [
    "Y = df.Births.values\n",
    "train, test = Y[:len(Y)-7], Y[len(Y)-7:]"
   ]
  },
  {
   "cell_type": "code",
   "execution_count": 37,
   "metadata": {},
   "outputs": [],
   "source": [
    "df['Births_shift_1'] = df['Births'].shift(1)\n",
    "df['Births_shift_2'] = df['Births'].shift(2)\n"
   ]
  },
  {
   "cell_type": "code",
   "execution_count": 38,
   "metadata": {},
   "outputs": [
    {
     "name": "stderr",
     "output_type": "stream",
     "text": [
      "C:\\Users\\duclh3\\AppData\\Local\\Temp\\ipykernel_35688\\978737114.py:2: SettingWithCopyWarning: \n",
      "A value is trying to be set on a copy of a slice from a DataFrame\n",
      "\n",
      "See the caveats in the documentation: https://pandas.pydata.org/pandas-docs/stable/user_guide/indexing.html#returning-a-view-versus-a-copy\n",
      "  train.dropna(inplace=True)\n"
     ]
    }
   ],
   "source": [
    "train = df.iloc[:358]\n",
    "train.dropna(inplace=True)"
   ]
  },
  {
   "cell_type": "code",
   "execution_count": 39,
   "metadata": {},
   "outputs": [],
   "source": [
    "from sklearn.linear_model import LinearRegression"
   ]
  },
  {
   "cell_type": "code",
   "execution_count": 40,
   "metadata": {},
   "outputs": [
    {
     "name": "stderr",
     "output_type": "stream",
     "text": [
      "f:\\Vendors\\Anaconda\\lib\\site-packages\\sklearn\\utils\\validation.py:767: FutureWarning: is_sparse is deprecated and will be removed in a future version. Check `isinstance(dtype, pd.SparseDtype)` instead.\n",
      "  if not hasattr(array, \"sparse\") and array.dtypes.apply(is_sparse).any():\n",
      "f:\\Vendors\\Anaconda\\lib\\site-packages\\sklearn\\utils\\validation.py:605: FutureWarning: is_sparse is deprecated and will be removed in a future version. Check `isinstance(dtype, pd.SparseDtype)` instead.\n",
      "  if is_sparse(pd_dtype):\n",
      "f:\\Vendors\\Anaconda\\lib\\site-packages\\sklearn\\utils\\validation.py:614: FutureWarning: is_sparse is deprecated and will be removed in a future version. Check `isinstance(dtype, pd.SparseDtype)` instead.\n",
      "  if is_sparse(pd_dtype) or not is_extension_array_dtype(pd_dtype):\n",
      "f:\\Vendors\\Anaconda\\lib\\site-packages\\sklearn\\utils\\validation.py:605: FutureWarning: is_sparse is deprecated and will be removed in a future version. Check `isinstance(dtype, pd.SparseDtype)` instead.\n",
      "  if is_sparse(pd_dtype):\n",
      "f:\\Vendors\\Anaconda\\lib\\site-packages\\sklearn\\utils\\validation.py:614: FutureWarning: is_sparse is deprecated and will be removed in a future version. Check `isinstance(dtype, pd.SparseDtype)` instead.\n",
      "  if is_sparse(pd_dtype) or not is_extension_array_dtype(pd_dtype):\n"
     ]
    },
    {
     "data": {
      "text/html": [
       "<style>#sk-container-id-4 {color: black;background-color: white;}#sk-container-id-4 pre{padding: 0;}#sk-container-id-4 div.sk-toggleable {background-color: white;}#sk-container-id-4 label.sk-toggleable__label {cursor: pointer;display: block;width: 100%;margin-bottom: 0;padding: 0.3em;box-sizing: border-box;text-align: center;}#sk-container-id-4 label.sk-toggleable__label-arrow:before {content: \"▸\";float: left;margin-right: 0.25em;color: #696969;}#sk-container-id-4 label.sk-toggleable__label-arrow:hover:before {color: black;}#sk-container-id-4 div.sk-estimator:hover label.sk-toggleable__label-arrow:before {color: black;}#sk-container-id-4 div.sk-toggleable__content {max-height: 0;max-width: 0;overflow: hidden;text-align: left;background-color: #f0f8ff;}#sk-container-id-4 div.sk-toggleable__content pre {margin: 0.2em;color: black;border-radius: 0.25em;background-color: #f0f8ff;}#sk-container-id-4 input.sk-toggleable__control:checked~div.sk-toggleable__content {max-height: 200px;max-width: 100%;overflow: auto;}#sk-container-id-4 input.sk-toggleable__control:checked~label.sk-toggleable__label-arrow:before {content: \"▾\";}#sk-container-id-4 div.sk-estimator input.sk-toggleable__control:checked~label.sk-toggleable__label {background-color: #d4ebff;}#sk-container-id-4 div.sk-label input.sk-toggleable__control:checked~label.sk-toggleable__label {background-color: #d4ebff;}#sk-container-id-4 input.sk-hidden--visually {border: 0;clip: rect(1px 1px 1px 1px);clip: rect(1px, 1px, 1px, 1px);height: 1px;margin: -1px;overflow: hidden;padding: 0;position: absolute;width: 1px;}#sk-container-id-4 div.sk-estimator {font-family: monospace;background-color: #f0f8ff;border: 1px dotted black;border-radius: 0.25em;box-sizing: border-box;margin-bottom: 0.5em;}#sk-container-id-4 div.sk-estimator:hover {background-color: #d4ebff;}#sk-container-id-4 div.sk-parallel-item::after {content: \"\";width: 100%;border-bottom: 1px solid gray;flex-grow: 1;}#sk-container-id-4 div.sk-label:hover label.sk-toggleable__label {background-color: #d4ebff;}#sk-container-id-4 div.sk-serial::before {content: \"\";position: absolute;border-left: 1px solid gray;box-sizing: border-box;top: 0;bottom: 0;left: 50%;z-index: 0;}#sk-container-id-4 div.sk-serial {display: flex;flex-direction: column;align-items: center;background-color: white;padding-right: 0.2em;padding-left: 0.2em;position: relative;}#sk-container-id-4 div.sk-item {position: relative;z-index: 1;}#sk-container-id-4 div.sk-parallel {display: flex;align-items: stretch;justify-content: center;background-color: white;position: relative;}#sk-container-id-4 div.sk-item::before, #sk-container-id-4 div.sk-parallel-item::before {content: \"\";position: absolute;border-left: 1px solid gray;box-sizing: border-box;top: 0;bottom: 0;left: 50%;z-index: -1;}#sk-container-id-4 div.sk-parallel-item {display: flex;flex-direction: column;z-index: 1;position: relative;background-color: white;}#sk-container-id-4 div.sk-parallel-item:first-child::after {align-self: flex-end;width: 50%;}#sk-container-id-4 div.sk-parallel-item:last-child::after {align-self: flex-start;width: 50%;}#sk-container-id-4 div.sk-parallel-item:only-child::after {width: 0;}#sk-container-id-4 div.sk-dashed-wrapped {border: 1px dashed gray;margin: 0 0.4em 0.5em 0.4em;box-sizing: border-box;padding-bottom: 0.4em;background-color: white;}#sk-container-id-4 div.sk-label label {font-family: monospace;font-weight: bold;display: inline-block;line-height: 1.2em;}#sk-container-id-4 div.sk-label-container {text-align: center;}#sk-container-id-4 div.sk-container {/* jupyter's `normalize.less` sets `[hidden] { display: none; }` but bootstrap.min.css set `[hidden] { display: none !important; }` so we also need the `!important` here to be able to override the default hidden behavior on the sphinx rendered scikit-learn.org. See: https://github.com/scikit-learn/scikit-learn/issues/21755 */display: inline-block !important;position: relative;}#sk-container-id-4 div.sk-text-repr-fallback {display: none;}</style><div id=\"sk-container-id-4\" class=\"sk-top-container\"><div class=\"sk-text-repr-fallback\"><pre>LinearRegression()</pre><b>In a Jupyter environment, please rerun this cell to show the HTML representation or trust the notebook. <br />On GitHub, the HTML representation is unable to render, please try loading this page with nbviewer.org.</b></div><div class=\"sk-container\" hidden><div class=\"sk-item\"><div class=\"sk-estimator sk-toggleable\"><input class=\"sk-toggleable__control sk-hidden--visually\" id=\"sk-estimator-id-4\" type=\"checkbox\" checked><label for=\"sk-estimator-id-4\" class=\"sk-toggleable__label sk-toggleable__label-arrow\">LinearRegression</label><div class=\"sk-toggleable__content\"><pre>LinearRegression()</pre></div></div></div></div></div>"
      ],
      "text/plain": [
       "LinearRegression()"
      ]
     },
     "execution_count": 40,
     "metadata": {},
     "output_type": "execute_result"
    }
   ],
   "source": [
    "model = LinearRegression()\n",
    "model.fit(train[['Births_shift_1','Births_shift_2']], train['Births'])"
   ]
  },
  {
   "cell_type": "code",
   "execution_count": 41,
   "metadata": {},
   "outputs": [
    {
     "data": {
      "text/plain": [
       "array([0.18468755, 0.11315929])"
      ]
     },
     "execution_count": 41,
     "metadata": {},
     "output_type": "execute_result"
    }
   ],
   "source": [
    "model.coef_"
   ]
  },
  {
   "cell_type": "code",
   "execution_count": 42,
   "metadata": {},
   "outputs": [
    {
     "data": {
      "text/plain": [
       "29.46548461980426"
      ]
     },
     "execution_count": 42,
     "metadata": {},
     "output_type": "execute_result"
    }
   ],
   "source": [
    "model.intercept_"
   ]
  },
  {
   "cell_type": "code",
   "execution_count": 43,
   "metadata": {},
   "outputs": [
    {
     "name": "stderr",
     "output_type": "stream",
     "text": [
      "f:\\Vendors\\Anaconda\\lib\\site-packages\\sklearn\\utils\\validation.py:767: FutureWarning: is_sparse is deprecated and will be removed in a future version. Check `isinstance(dtype, pd.SparseDtype)` instead.\n",
      "  if not hasattr(array, \"sparse\") and array.dtypes.apply(is_sparse).any():\n",
      "f:\\Vendors\\Anaconda\\lib\\site-packages\\sklearn\\utils\\validation.py:605: FutureWarning: is_sparse is deprecated and will be removed in a future version. Check `isinstance(dtype, pd.SparseDtype)` instead.\n",
      "  if is_sparse(pd_dtype):\n",
      "f:\\Vendors\\Anaconda\\lib\\site-packages\\sklearn\\utils\\validation.py:614: FutureWarning: is_sparse is deprecated and will be removed in a future version. Check `isinstance(dtype, pd.SparseDtype)` instead.\n",
      "  if is_sparse(pd_dtype) or not is_extension_array_dtype(pd_dtype):\n"
     ]
    },
    {
     "data": {
      "text/plain": [
       "array([39.33606127, 38.6272083 , 38.58557727, 41.09967465, 39.80043225,\n",
       "       41.05804361, 42.49921718, 41.34946087, 38.75210141, 39.53891221,\n",
       "       39.86022669, 43.35755623, 44.36956027, 43.09491085, 41.39109191,\n",
       "       42.88675567, 43.06501363, 41.90352351, 43.70876793, 41.62914431,\n",
       "       43.10134043, 42.66574133, 39.78869843, 39.92002112, 41.59394285,\n",
       "       41.53414842, 40.34276107, 41.55231181, 41.46262016, 38.19803878,\n",
       "       36.42912115, 37.79346223, 41.09967465, 41.46262016, 42.99991496,\n",
       "       42.14157591, 43.18460251, 40.96192238, 38.69873656, 42.39248747,\n",
       "       41.88536011, 41.85015865, 43.97671754, 41.51598502, 42.91665289,\n",
       "       44.0300824 , 43.09491085, 43.05327982, 41.87362629, 42.74369916,\n",
       "       41.73056978, 40.11644249, 43.02981218, 43.10664467, 42.5291144 ,\n",
       "       41.760467  , 40.71213616, 39.19300476, 39.32432745, 38.59731108,\n",
       "       40.94488432, 40.83702927, 39.96165216, 42.77359638, 43.24970118,\n",
       "       41.64730771, 39.78869843, 40.28939621, 42.18963652, 42.49921718,\n",
       "       41.53414842, 39.60401089, 37.95998637, 38.06141185, 40.61714027,\n",
       "       42.71380194, 42.24300138, 40.7537672 , 41.85015865, 43.05327982,\n",
       "       42.61237647, 41.34946087, 40.04491423, 39.77696461, 43.76856236,\n",
       "       42.45115656, 39.44922056, 42.32095922, 42.69563854, 41.30782983,\n",
       "       41.45088634, 42.7853302 , 41.06334785, 39.96165216, 39.6339081 ,\n",
       "       39.66380532, 40.44418654, 40.78366441, 40.04491423, 43.10134043,\n",
       "       41.7423036 , 39.59227707, 40.33102725, 40.22960178, 39.33606127,\n",
       "       40.84345885, 40.4975514 , 41.80852761, 40.21143838, 41.35589045,\n",
       "       42.98175156, 44.53078018, 41.85546289, 40.1463397 , 40.11644249,\n",
       "       40.81356163, 41.74873318, 44.93005249, 45.44778833, 41.14660992,\n",
       "       39.55064603, 40.44418654, 39.86022669, 40.4025555 , 42.55901162,\n",
       "       41.80209803, 43.36929005, 40.89039412, 39.1396399 , 40.70040234,\n",
       "       40.45592036, 41.18293672, 41.79036422, 41.86189247, 41.23630158,\n",
       "       38.19803878, 38.46068416, 41.25446498, 40.98008578, 43.69703411,\n",
       "       43.261435  , 42.41595511, 42.12984209, 40.93845474, 41.59394285,\n",
       "       41.53414842, 39.97338598, 41.14130569, 41.71883596, 41.009983  ,\n",
       "       42.07647723, 43.05327982, 40.95018856, 39.77696461, 42.291062  ,\n",
       "       44.31619542, 41.88536011, 39.6339081 , 41.69536832, 42.42768893,\n",
       "       43.08317703, 41.17650714, 40.88508989, 40.56907965, 40.81356163,\n",
       "       40.27123281, 38.85352688, 39.50901499, 40.92672092, 41.19467054,\n",
       "       42.18963652, 41.57577945, 42.44585232, 40.87866031, 38.74036759,\n",
       "       40.61714027, 42.15973931, 41.90352351, 41.67720492, 45.00158075,\n",
       "       44.08344725, 42.64227369, 41.57577945, 40.59897687, 41.96331794,\n",
       "       42.31452963, 44.74536495, 44.41119131, 44.08987684, 42.80879783,\n",
       "       42.7853302 , 39.58584749, 38.87169028, 41.55231181, 42.0166828 ,\n",
       "       41.86189247, 40.86692649, 41.85015865, 42.86859227, 42.86859227,\n",
       "       43.23796736, 41.80209803, 41.5224146 , 40.68223894, 40.07481145,\n",
       "       40.74203338, 42.18963652, 42.49921718, 43.01164878, 41.43272294,\n",
       "       41.11140847, 43.33939283, 42.32626345, 41.45088634, 42.60064265,\n",
       "       46.49081493, 45.0186188 , 40.83702927, 40.33102725, 41.89178969,\n",
       "       43.30949562, 43.39275769, 42.79706402, 41.27793261, 40.85519267,\n",
       "       42.00494898, 42.75543298, 40.65234172, 41.32599323, 41.46262016,\n",
       "       42.26116478, 43.16643911, 42.05831383, 41.19467054, 42.00494898,\n",
       "       43.30949562, 44.13150787, 42.69563854, 41.86189247, 43.63723967,\n",
       "       42.80879783, 42.23126756, 41.46262016, 46.32429078, 44.54781824,\n",
       "       41.74873318, 43.63723967, 43.36286047, 42.75543298, 41.20640436,\n",
       "       44.0664092 , 44.04181622, 42.20137034, 44.00661476, 43.21980396,\n",
       "       40.4975514 , 40.70040234, 44.33435882, 43.92865693, 44.23293334,\n",
       "       45.62074206, 42.89205991, 44.77526216, 46.2996978 , 49.17143646,\n",
       "       47.88392788, 43.81549764, 42.38605789, 41.71883596, 42.67217091,\n",
       "       44.20303613, 45.57911102, 44.85209466, 44.98341735, 45.91858889,\n",
       "       44.48271956, 42.91022331, 42.38605789, 42.08821105, 42.5291144 ,\n",
       "       43.79203   , 43.98845136, 42.83869505, 41.71883596, 44.88842145,\n",
       "       43.71407216, 41.86189247, 43.63723967, 44.2862982 , 43.32122944,\n",
       "       42.49921718, 42.08821105, 41.23630158, 42.44585232, 41.80209803,\n",
       "       40.41428932, 41.29609601, 40.68223894, 38.59731108, 40.76019678,\n",
       "       41.09324507, 41.85015865, 43.05327982, 43.5358142 , 43.94682033,\n",
       "       42.95185434, 42.08821105, 45.11474004, 44.45282235, 44.16140509,\n",
       "       43.84539485, 42.42768893, 41.60567667, 41.37935809, 42.30279582,\n",
       "       41.02171681, 39.8901239 , 40.81356163, 41.19467054, 39.97338598,\n",
       "       40.95661814, 42.89848949, 44.20303613, 43.36286047, 41.83199525,\n",
       "       44.51904636, 44.96525395, 43.32122944, 43.60734245, 44.42935471,\n",
       "       43.73223556, 42.79706402, 44.0482458 , 43.66070731, 40.46765418,\n",
       "       41.58220903, 42.24300138, 40.3843921 , 39.40758952, 39.84849287,\n",
       "       42.58890883, 42.95185434, 42.2728986 , 40.61071069, 40.5157148 ,\n",
       "       40.34276107, 43.02981218, 44.0300824 , 44.38772367, 42.55258203,\n",
       "       41.2661988 , 41.74873318, 41.97505176, 44.00661476, 42.66574133,\n",
       "       41.2661988 ])"
      ]
     },
     "execution_count": 43,
     "metadata": {},
     "output_type": "execute_result"
    }
   ],
   "source": [
    "model.predict(train[['Births_shift_1','Births_shift_2']])"
   ]
  },
  {
   "cell_type": "code",
   "execution_count": null,
   "metadata": {},
   "outputs": [],
   "source": []
  }
 ],
 "metadata": {
  "kernelspec": {
   "display_name": "base",
   "language": "python",
   "name": "python3"
  },
  "language_info": {
   "codemirror_mode": {
    "name": "ipython",
    "version": 3
   },
   "file_extension": ".py",
   "mimetype": "text/x-python",
   "name": "python",
   "nbconvert_exporter": "python",
   "pygments_lexer": "ipython3",
   "version": "3.10.9"
  }
 },
 "nbformat": 4,
 "nbformat_minor": 2
}
