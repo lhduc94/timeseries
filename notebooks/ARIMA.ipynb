{
 "cells": [
  {
   "cell_type": "code",
   "execution_count": 4,
   "metadata": {},
   "outputs": [],
   "source": [
    "from statsmodels.tsa.ar_model import AutoReg\n",
    "import pandas as pd \n",
    "from sklearn.metrics import mean_squared_error\n",
    "import numpy as np\n",
    "import seaborn as sns\n",
    "import matplotlib.pyplot as plt"
   ]
  },
  {
   "cell_type": "code",
   "execution_count": 5,
   "metadata": {},
   "outputs": [
    {
     "data": {
      "text/html": [
       "<div>\n",
       "<style scoped>\n",
       "    .dataframe tbody tr th:only-of-type {\n",
       "        vertical-align: middle;\n",
       "    }\n",
       "\n",
       "    .dataframe tbody tr th {\n",
       "        vertical-align: top;\n",
       "    }\n",
       "\n",
       "    .dataframe thead th {\n",
       "        text-align: right;\n",
       "    }\n",
       "</style>\n",
       "<table border=\"1\" class=\"dataframe\">\n",
       "  <thead>\n",
       "    <tr style=\"text-align: right;\">\n",
       "      <th></th>\n",
       "      <th>Date</th>\n",
       "      <th>Births</th>\n",
       "    </tr>\n",
       "  </thead>\n",
       "  <tbody>\n",
       "    <tr>\n",
       "      <th>0</th>\n",
       "      <td>1959-01-01</td>\n",
       "      <td>35</td>\n",
       "    </tr>\n",
       "    <tr>\n",
       "      <th>1</th>\n",
       "      <td>1959-01-02</td>\n",
       "      <td>32</td>\n",
       "    </tr>\n",
       "    <tr>\n",
       "      <th>2</th>\n",
       "      <td>1959-01-03</td>\n",
       "      <td>30</td>\n",
       "    </tr>\n",
       "    <tr>\n",
       "      <th>3</th>\n",
       "      <td>1959-01-04</td>\n",
       "      <td>31</td>\n",
       "    </tr>\n",
       "    <tr>\n",
       "      <th>4</th>\n",
       "      <td>1959-01-05</td>\n",
       "      <td>44</td>\n",
       "    </tr>\n",
       "  </tbody>\n",
       "</table>\n",
       "</div>"
      ],
      "text/plain": [
       "         Date  Births\n",
       "0  1959-01-01      35\n",
       "1  1959-01-02      32\n",
       "2  1959-01-03      30\n",
       "3  1959-01-04      31\n",
       "4  1959-01-05      44"
      ]
     },
     "execution_count": 5,
     "metadata": {},
     "output_type": "execute_result"
    }
   ],
   "source": [
    "df = pd.read_csv('../data/daily-total-female-births.csv')\n",
    "df.head()\n"
   ]
  },
  {
   "cell_type": "markdown",
   "metadata": {},
   "source": [
    "# AR MODEL"
   ]
  },
  {
   "cell_type": "code",
   "execution_count": 6,
   "metadata": {},
   "outputs": [],
   "source": [
    "Y = df.Births.values\n",
    "train, test = Y[:len(Y)-7], Y[len(Y)-7:]"
   ]
  },
  {
   "cell_type": "code",
   "execution_count": 7,
   "metadata": {},
   "outputs": [],
   "source": [
    "AR_model = AutoReg(train, lags=2)\n",
    "AR_results = AR_model.fit()"
   ]
  },
  {
   "cell_type": "code",
   "execution_count": 8,
   "metadata": {},
   "outputs": [],
   "source": [
    "Y_hat = AR_results.predict(start=len(train), end=len(train)+len(test)-1, dynamic=False)"
   ]
  },
  {
   "cell_type": "code",
   "execution_count": 9,
   "metadata": {},
   "outputs": [
    {
     "name": "stdout",
     "output_type": "stream",
     "text": [
      "Predicted=41.00998299621138 \tExpected=44\n",
      "Predicted=41.339570786034756 \tExpected=34\n",
      "Predicted=41.7410490879718 \tExpected=37\n",
      "Predicted=41.85249305081904 \tExpected=52\n",
      "Predicted=41.91850636281706 \tExpected=48\n",
      "Predicted=41.94330911921788 \tExpected=55\n",
      "Predicted=41.95535989900882 \tExpected=50\n"
     ]
    }
   ],
   "source": [
    "for y_hat, y_true in zip(Y_hat, test):\n",
    "    print(f'Predicted={y_hat} \\tExpected={y_true}')"
   ]
  },
  {
   "cell_type": "code",
   "execution_count": 10,
   "metadata": {},
   "outputs": [
    {
     "data": {
      "text/plain": [
       "8.110283777968606"
      ]
     },
     "execution_count": 10,
     "metadata": {},
     "output_type": "execute_result"
    }
   ],
   "source": [
    "np.sqrt(mean_squared_error(test, Y_hat))"
   ]
  },
  {
   "cell_type": "code",
   "execution_count": 11,
   "metadata": {},
   "outputs": [
    {
     "data": {
      "text/plain": [
       "array([29.46548462,  0.18468755,  0.11315929])"
      ]
     },
     "execution_count": 11,
     "metadata": {},
     "output_type": "execute_result"
    }
   ],
   "source": [
    "AR_results.params"
   ]
  },
  {
   "cell_type": "code",
   "execution_count": 12,
   "metadata": {},
   "outputs": [
    {
     "data": {
      "text/html": [
       "<table class=\"simpletable\">\n",
       "<caption>AutoReg Model Results</caption>\n",
       "<tr>\n",
       "  <th>Dep. Variable:</th>         <td>y</td>        <th>  No. Observations:  </th>    <td>358</td>   \n",
       "</tr>\n",
       "<tr>\n",
       "  <th>Model:</th>            <td>AutoReg(2)</td>    <th>  Log Likelihood     </th> <td>-1203.234</td>\n",
       "</tr>\n",
       "<tr>\n",
       "  <th>Method:</th>         <td>Conditional MLE</td> <th>  S.D. of innovations</th>   <td>7.106</td>  \n",
       "</tr>\n",
       "<tr>\n",
       "  <th>Date:</th>          <td>Sun, 31 Dec 2023</td> <th>  AIC                </th> <td>2414.467</td> \n",
       "</tr>\n",
       "<tr>\n",
       "  <th>Time:</th>              <td>02:11:41</td>     <th>  BIC                </th> <td>2429.967</td> \n",
       "</tr>\n",
       "<tr>\n",
       "  <th>Sample:</th>                <td>2</td>        <th>  HQIC               </th> <td>2420.633</td> \n",
       "</tr>\n",
       "<tr>\n",
       "  <th></th>                      <td>358</td>       <th>                     </th>     <td> </td>    \n",
       "</tr>\n",
       "</table>\n",
       "<table class=\"simpletable\">\n",
       "<tr>\n",
       "    <td></td>       <th>coef</th>     <th>std err</th>      <th>z</th>      <th>P>|z|</th>  <th>[0.025</th>    <th>0.975]</th>  \n",
       "</tr>\n",
       "<tr>\n",
       "  <th>const</th> <td>   29.4655</td> <td>    2.792</td> <td>   10.554</td> <td> 0.000</td> <td>   23.993</td> <td>   34.938</td>\n",
       "</tr>\n",
       "<tr>\n",
       "  <th>y.L1</th>  <td>    0.1847</td> <td>    0.053</td> <td>    3.513</td> <td> 0.000</td> <td>    0.082</td> <td>    0.288</td>\n",
       "</tr>\n",
       "<tr>\n",
       "  <th>y.L2</th>  <td>    0.1132</td> <td>    0.053</td> <td>    2.155</td> <td> 0.031</td> <td>    0.010</td> <td>    0.216</td>\n",
       "</tr>\n",
       "</table>\n",
       "<table class=\"simpletable\">\n",
       "<caption>Roots</caption>\n",
       "<tr>\n",
       "    <td></td>   <th>            Real</th>  <th>         Imaginary</th> <th>         Modulus</th>  <th>        Frequency</th>\n",
       "</tr>\n",
       "<tr>\n",
       "  <th>AR.1</th> <td>           2.2666</td> <td>          +0.0000j</td> <td>           2.2666</td> <td>           0.0000</td>\n",
       "</tr>\n",
       "<tr>\n",
       "  <th>AR.2</th> <td>          -3.8988</td> <td>          +0.0000j</td> <td>           3.8988</td> <td>           0.5000</td>\n",
       "</tr>\n",
       "</table>"
      ],
      "text/latex": [
       "\\begin{center}\n",
       "\\begin{tabular}{lclc}\n",
       "\\toprule\n",
       "\\textbf{Dep. Variable:} &             y             & \\textbf{  No. Observations:  } &            358             \\\\\n",
       "\\textbf{Model:}         &         AutoReg(2)        & \\textbf{  Log Likelihood     } &         -1203.234          \\\\\n",
       "\\textbf{Method:}        &      Conditional MLE      & \\textbf{  S.D. of innovations} &           7.106            \\\\\n",
       "\\textbf{Date:}          &      Sun, 31 Dec 2023     & \\textbf{  AIC                } &          2414.467          \\\\\n",
       "\\textbf{Time:}          &          02:11:41         & \\textbf{  BIC                } &          2429.967          \\\\\n",
       "\\textbf{Sample:}        &             2             & \\textbf{  HQIC               } &          2420.633          \\\\\n",
       "\\textbf{}               &            358            & \\textbf{                     } &                            \\\\\n",
       "\\bottomrule\n",
       "\\end{tabular}\n",
       "\\begin{tabular}{lcccccc}\n",
       "               & \\textbf{coef} & \\textbf{std err} & \\textbf{z} & \\textbf{P$> |$z$|$} & \\textbf{[0.025} & \\textbf{0.975]}  \\\\\n",
       "\\midrule\n",
       "\\textbf{const} &      29.4655  &        2.792     &    10.554  &         0.000        &       23.993    &       34.938     \\\\\n",
       "\\textbf{y.L1}  &       0.1847  &        0.053     &     3.513  &         0.000        &        0.082    &        0.288     \\\\\n",
       "\\textbf{y.L2}  &       0.1132  &        0.053     &     2.155  &         0.031        &        0.010    &        0.216     \\\\\n",
       "\\bottomrule\n",
       "\\end{tabular}\n",
       "\\begin{tabular}{lcccc}\n",
       "              & \\textbf{            Real} & \\textbf{         Imaginary} & \\textbf{         Modulus} & \\textbf{        Frequency}  \\\\\n",
       "\\midrule\n",
       "\\textbf{AR.1} &                2.2666     &                +0.0000j     &                2.2666     &                0.0000       \\\\\n",
       "\\textbf{AR.2} &               -3.8988     &                +0.0000j     &                3.8988     &                0.5000       \\\\\n",
       "\\bottomrule\n",
       "\\end{tabular}\n",
       "%\\caption{AutoReg Model Results}\n",
       "\\end{center}"
      ],
      "text/plain": [
       "<class 'statsmodels.iolib.summary.Summary'>\n",
       "\"\"\"\n",
       "                            AutoReg Model Results                             \n",
       "==============================================================================\n",
       "Dep. Variable:                      y   No. Observations:                  358\n",
       "Model:                     AutoReg(2)   Log Likelihood               -1203.234\n",
       "Method:               Conditional MLE   S.D. of innovations              7.106\n",
       "Date:                Sun, 31 Dec 2023   AIC                           2414.467\n",
       "Time:                        02:11:41   BIC                           2429.967\n",
       "Sample:                             2   HQIC                          2420.633\n",
       "                                  358                                         \n",
       "==============================================================================\n",
       "                 coef    std err          z      P>|z|      [0.025      0.975]\n",
       "------------------------------------------------------------------------------\n",
       "const         29.4655      2.792     10.554      0.000      23.993      34.938\n",
       "y.L1           0.1847      0.053      3.513      0.000       0.082       0.288\n",
       "y.L2           0.1132      0.053      2.155      0.031       0.010       0.216\n",
       "                                    Roots                                    \n",
       "=============================================================================\n",
       "                  Real          Imaginary           Modulus         Frequency\n",
       "-----------------------------------------------------------------------------\n",
       "AR.1            2.2666           +0.0000j            2.2666            0.0000\n",
       "AR.2           -3.8988           +0.0000j            3.8988            0.5000\n",
       "-----------------------------------------------------------------------------\n",
       "\"\"\""
      ]
     },
     "execution_count": 12,
     "metadata": {},
     "output_type": "execute_result"
    }
   ],
   "source": [
    "AR_results.summary()"
   ]
  },
  {
   "cell_type": "code",
   "execution_count": 13,
   "metadata": {},
   "outputs": [
    {
     "data": {
      "text/plain": [
       "array([35, 32, 30, 31, 44, 29, 45, 43, 38, 27, 38, 33, 55, 47, 45, 37, 50,\n",
       "       43, 41, 52, 34, 53, 39, 32, 37, 43, 39, 35, 44, 38, 24, 23, 31, 44,\n",
       "       38, 50, 38, 51, 31, 31, 51, 36, 45, 51, 34, 52, 47, 45, 46, 39, 48,\n",
       "       37, 35, 52, 42, 45, 39, 37, 30, 35, 28, 45, 34, 36, 50, 44, 39, 32,\n",
       "       39, 45, 43, 39, 31, 27, 30, 42, 46, 41, 36, 45, 46, 43, 38, 34, 35,\n",
       "       56, 36, 32, 50, 41, 39, 41, 47, 34, 36, 33, 35, 38, 38, 34, 53, 34,\n",
       "       34, 38, 35, 32, 42, 34, 46, 30, 46, 45, 54, 34, 37, 35, 40, 42, 58,\n",
       "       51, 32, 35, 38, 33, 39, 47, 38, 52, 30, 34, 40, 35, 42, 41, 42, 38,\n",
       "       24, 34, 43, 36, 55, 41, 45, 41, 37, 43, 39, 33, 43, 40, 38, 45, 46,\n",
       "       34, 35, 48, 51, 36, 33, 46, 42, 48, 34, 41, 35, 40, 34, 30, 36, 40,\n",
       "       39, 45, 38, 47, 33, 30, 42, 43, 41, 41, 59, 43, 45, 38, 37, 45, 42,\n",
       "       57, 46, 51, 41, 47, 26, 35, 44, 41, 42, 36, 45, 45, 45, 47, 38, 42,\n",
       "       35, 36, 39, 45, 43, 47, 36, 41, 50, 39, 41, 46, 64, 45, 34, 38, 44,\n",
       "       48, 46, 44, 37, 39, 44, 45, 33, 44, 38, 46, 46, 40, 39, 44, 48, 50,\n",
       "       41, 42, 51, 41, 44, 38, 68, 40, 42, 51, 44, 45, 36, 57, 44, 42, 53,\n",
       "       42, 34, 40, 56, 44, 53, 55, 39, 59, 55, 73, 55, 44, 43, 40, 47, 51,\n",
       "       56, 49, 54, 56, 47, 44, 43, 42, 45, 50, 48, 43, 40, 59, 41, 42, 51,\n",
       "       49, 45, 43, 42, 38, 47, 38, 36, 42, 35, 28, 44, 36, 45, 46, 48, 49,\n",
       "       43, 42, 59, 45, 52, 46, 42, 40, 40, 45, 35, 35, 40, 39, 33, 42, 47,\n",
       "       51, 44, 40, 57, 49, 45, 49, 51, 46, 44, 52, 45, 32, 46, 41, 34, 33,\n",
       "       36, 49, 43, 43, 34, 39, 35, 52, 47, 52, 39, 40, 42, 42, 53, 39, 40,\n",
       "       38], dtype=int64)"
      ]
     },
     "execution_count": 13,
     "metadata": {},
     "output_type": "execute_result"
    }
   ],
   "source": [
    "train"
   ]
  },
  {
   "cell_type": "code",
   "execution_count": 14,
   "metadata": {},
   "outputs": [
    {
     "data": {
      "text/plain": [
       "array([44, 34, 37, 52, 48, 55, 50], dtype=int64)"
      ]
     },
     "execution_count": 14,
     "metadata": {},
     "output_type": "execute_result"
    }
   ],
   "source": [
    "test"
   ]
  },
  {
   "cell_type": "code",
   "execution_count": 15,
   "metadata": {},
   "outputs": [
    {
     "data": {
      "text/plain": [
       "array([41.009983  , 41.33957079, 41.74104909, 41.85249305, 41.91850636,\n",
       "       41.94330912, 41.9553599 ])"
      ]
     },
     "execution_count": 15,
     "metadata": {},
     "output_type": "execute_result"
    }
   ],
   "source": [
    "Y_hat"
   ]
  },
  {
   "cell_type": "code",
   "execution_count": 16,
   "metadata": {},
   "outputs": [
    {
     "data": {
      "text/plain": [
       "41.00998312"
      ]
     },
     "execution_count": 16,
     "metadata": {},
     "output_type": "execute_result"
    }
   ],
   "source": [
    "29.46548462 + 0.18468755*38+0.11315929*40"
   ]
  },
  {
   "cell_type": "code",
   "execution_count": 17,
   "metadata": {},
   "outputs": [
    {
     "data": {
      "text/plain": [
       "41.33957094797416"
      ]
     },
     "execution_count": 17,
     "metadata": {},
     "output_type": "execute_result"
    }
   ],
   "source": [
    "29.46548462 + 0.18468755*41.00998312+0.11315929*38"
   ]
  },
  {
   "cell_type": "code",
   "execution_count": 18,
   "metadata": {},
   "outputs": [],
   "source": [
    "Y_hat_sim = list(train[-2:])\n",
    "c = 29.46548462\n",
    "phi_1 = 0.18468755\n",
    "phi_2 = 0.11315929\n",
    "for i in range(7):\n",
    "    predict = c + phi_1*Y_hat_sim[-1] + phi_2*Y_hat_sim[-2]\n",
    "    Y_hat_sim.append(predict)"
   ]
  },
  {
   "cell_type": "code",
   "execution_count": 19,
   "metadata": {},
   "outputs": [
    {
     "name": "stdout",
     "output_type": "stream",
     "text": [
      "Simulated=41.00998312 \t Predicted=41.00998299621138\n",
      "Simulated=41.33957094797416 \t Predicted=41.339570786034756\n",
      "Simulated=41.74104926920371 \t Predicted=41.7410490879718\n",
      "Simulated=41.85249324133591 \t Predicted=41.85249305081904\n",
      "Simulated=41.918506557292 \t Predicted=41.91850636281706\n",
      "Simulated=41.94330931564456 \t Predicted=41.94330911921788\n",
      "Simulated=41.95536009628208 \t Predicted=41.95535989900882\n"
     ]
    }
   ],
   "source": [
    "for a, b in zip(Y_hat_sim[2:], Y_hat):\n",
    "    print(f\"Simulated={a} \\t Predicted={b}\")"
   ]
  },
  {
   "cell_type": "code",
   "execution_count": 20,
   "metadata": {},
   "outputs": [
    {
     "data": {
      "text/plain": [
       "([41.00998312,\n",
       "  41.33957094797416,\n",
       "  41.74104926920371,\n",
       "  41.85249324133591,\n",
       "  41.918506557292,\n",
       "  41.94330931564456,\n",
       "  41.95536009628208],\n",
       " array([41.009983  , 41.33957079, 41.74104909, 41.85249305, 41.91850636,\n",
       "        41.94330912, 41.9553599 ]))"
      ]
     },
     "execution_count": 20,
     "metadata": {},
     "output_type": "execute_result"
    }
   ],
   "source": [
    "Y_hat_sim[2:], Y_hat"
   ]
  },
  {
   "cell_type": "code",
   "execution_count": 21,
   "metadata": {},
   "outputs": [
    {
     "data": {
      "text/plain": [
       "Text(0.5, 1.0, 'AR(2)')"
      ]
     },
     "execution_count": 21,
     "metadata": {},
     "output_type": "execute_result"
    },
    {
     "data": {
      "image/png": "[encoded data removed]",
      "text/plain": [
       "<Figure size 640x480 with 1 Axes>"
      ]
     },
     "metadata": {},
     "output_type": "display_data"
    }
   ],
   "source": [
    "sns.lineplot(test, label='test')\n",
    "sns.lineplot(Y_hat, label='prediction')\n",
    "plt.title(\"AR(2)\")"
   ]
  },
  {
   "cell_type": "markdown",
   "metadata": {},
   "source": [
    "### Moving Average Model"
   ]
  },
  {
   "cell_type": "code",
   "execution_count": 22,
   "metadata": {},
   "outputs": [],
   "source": [
    "np.random.seed(42)"
   ]
  },
  {
   "cell_type": "code",
   "execution_count": 23,
   "metadata": {},
   "outputs": [],
   "source": [
    "samples = np.random.normal(0, 1, size=100)\n"
   ]
  },
  {
   "cell_type": "code",
   "execution_count": 24,
   "metadata": {},
   "outputs": [
    {
     "data": {
      "text/plain": [
       "-0.23458713337514692"
      ]
     },
     "execution_count": 24,
     "metadata": {},
     "output_type": "execute_result"
    }
   ],
   "source": [
    "samples[-1]"
   ]
  },
  {
   "cell_type": "code",
   "execution_count": 25,
   "metadata": {},
   "outputs": [],
   "source": [
    "MA1 = np.zeros(len(samples))\n",
    "MA1[0] = 20 + samples[0]\n",
    "for i in range(1, len(MA1)):\n",
    "    MA1[i] = 20 + samples[i] + 0.8*samples[i-1]"
   ]
  },
  {
   "cell_type": "code",
   "execution_count": 26,
   "metadata": {},
   "outputs": [],
   "source": [
    "MA2 = np.zeros(len(samples))\n",
    "MA2[0] = samples[0]\n",
    "MA2[1] = samples[1] - samples[0]\n",
    "for i in range(2, len(MA2)):\n",
    "    MA2[i] = samples[i] - samples[i-1] + 0.8*samples[i-2]"
   ]
  },
  {
   "cell_type": "code",
   "execution_count": 27,
   "metadata": {},
   "outputs": [
    {
     "data": {
      "text/plain": [
       "Text(0.5, 1.0, 'MA(1)')"
      ]
     },
     "execution_count": 27,
     "metadata": {},
     "output_type": "execute_result"
    },
    {
     "data": {
      "image/png": "[encoded data removed]",
      "text/plain": [
       "<Figure size 640x480 with 1 Axes>"
      ]
     },
     "metadata": {},
     "output_type": "display_data"
    }
   ],
   "source": [
    "\n",
    "sns.lineplot(MA1)\n",
    "plt.title(\"MA(1)\")"
   ]
  },
  {
   "cell_type": "code",
   "execution_count": 28,
   "metadata": {},
   "outputs": [
    {
     "data": {
      "text/plain": [
       "Text(0.5, 1.0, 'MA(2)')"
      ]
     },
     "execution_count": 28,
     "metadata": {},
     "output_type": "execute_result"
    },
    {
     "data": {
      "image/png": "[encoded data removed]",
      "text/plain": [
       "<Figure size 640x480 with 1 Axes>"
      ]
     },
     "metadata": {},
     "output_type": "display_data"
    }
   ],
   "source": [
    "sns.lineplot(MA2)\n",
    "plt.title(\"MA(2)\")"
   ]
  },
  {
   "cell_type": "code",
   "execution_count": 29,
   "metadata": {},
   "outputs": [],
   "source": [
    "from statsmodels.tsa.arima.model import ARIMA\n"
   ]
  },
  {
   "cell_type": "code",
   "execution_count": 42,
   "metadata": {},
   "outputs": [
    {
     "name": "stdout",
     "output_type": "stream",
     "text": [
      "41.90336456961751\n",
      "41.89874024582331\n",
      "41.891501684411935\n",
      "41.887831555250614\n",
      "41.88590709759107\n",
      "41.88528852649531\n",
      "41.8640551538677\n",
      "41.849053138294344\n",
      "41.8452634667668\n"
     ]
    }
   ],
   "source": [
    "np.random.seed(20)\n",
    "for i in range(1, 10):\n",
    "    MA_model = ARIMA(train, order=(0, 0, i))\n",
    "    MA_results = MA_model.fit()\n",
    "    print(MA_results.params[0])\n"
   ]
  },
  {
   "cell_type": "code",
   "execution_count": 43,
   "metadata": {},
   "outputs": [
    {
     "data": {
      "text/html": [
       "<table class=\"simpletable\">\n",
       "<caption>SARIMAX Results</caption>\n",
       "<tr>\n",
       "  <th>Dep. Variable:</th>           <td>y</td>        <th>  No. Observations:  </th>    <td>358</td>   \n",
       "</tr>\n",
       "<tr>\n",
       "  <th>Model:</th>            <td>ARIMA(0, 0, 9)</td>  <th>  Log Likelihood     </th> <td>-1202.441</td>\n",
       "</tr>\n",
       "<tr>\n",
       "  <th>Date:</th>            <td>Sun, 31 Dec 2023</td> <th>  AIC                </th> <td>2426.882</td> \n",
       "</tr>\n",
       "<tr>\n",
       "  <th>Time:</th>                <td>02:16:05</td>     <th>  BIC                </th> <td>2469.568</td> \n",
       "</tr>\n",
       "<tr>\n",
       "  <th>Sample:</th>                  <td>0</td>        <th>  HQIC               </th> <td>2443.859</td> \n",
       "</tr>\n",
       "<tr>\n",
       "  <th></th>                      <td> - 358</td>      <th>                     </th>     <td> </td>    \n",
       "</tr>\n",
       "<tr>\n",
       "  <th>Covariance Type:</th>        <td>opg</td>       <th>                     </th>     <td> </td>    \n",
       "</tr>\n",
       "</table>\n",
       "<table class=\"simpletable\">\n",
       "<tr>\n",
       "     <td></td>       <th>coef</th>     <th>std err</th>      <th>z</th>      <th>P>|z|</th>  <th>[0.025</th>    <th>0.975]</th>  \n",
       "</tr>\n",
       "<tr>\n",
       "  <th>const</th>  <td>   41.8453</td> <td>    0.732</td> <td>   57.196</td> <td> 0.000</td> <td>   40.411</td> <td>   43.279</td>\n",
       "</tr>\n",
       "<tr>\n",
       "  <th>ma.L1</th>  <td>    0.1516</td> <td>    0.057</td> <td>    2.670</td> <td> 0.008</td> <td>    0.040</td> <td>    0.263</td>\n",
       "</tr>\n",
       "<tr>\n",
       "  <th>ma.L2</th>  <td>    0.0989</td> <td>    0.054</td> <td>    1.822</td> <td> 0.068</td> <td>   -0.007</td> <td>    0.205</td>\n",
       "</tr>\n",
       "<tr>\n",
       "  <th>ma.L3</th>  <td>    0.0515</td> <td>    0.058</td> <td>    0.894</td> <td> 0.371</td> <td>   -0.061</td> <td>    0.164</td>\n",
       "</tr>\n",
       "<tr>\n",
       "  <th>ma.L4</th>  <td>    0.0539</td> <td>    0.059</td> <td>    0.920</td> <td> 0.358</td> <td>   -0.061</td> <td>    0.169</td>\n",
       "</tr>\n",
       "<tr>\n",
       "  <th>ma.L5</th>  <td>    0.0859</td> <td>    0.057</td> <td>    1.515</td> <td> 0.130</td> <td>   -0.025</td> <td>    0.197</td>\n",
       "</tr>\n",
       "<tr>\n",
       "  <th>ma.L6</th>  <td>    0.0717</td> <td>    0.060</td> <td>    1.189</td> <td> 0.234</td> <td>   -0.047</td> <td>    0.190</td>\n",
       "</tr>\n",
       "<tr>\n",
       "  <th>ma.L7</th>  <td>    0.1879</td> <td>    0.050</td> <td>    3.761</td> <td> 0.000</td> <td>    0.090</td> <td>    0.286</td>\n",
       "</tr>\n",
       "<tr>\n",
       "  <th>ma.L8</th>  <td>    0.1255</td> <td>    0.059</td> <td>    2.141</td> <td> 0.032</td> <td>    0.011</td> <td>    0.240</td>\n",
       "</tr>\n",
       "<tr>\n",
       "  <th>ma.L9</th>  <td>    0.0346</td> <td>    0.055</td> <td>    0.632</td> <td> 0.527</td> <td>   -0.073</td> <td>    0.142</td>\n",
       "</tr>\n",
       "<tr>\n",
       "  <th>sigma2</th> <td>   48.3559</td> <td>    3.824</td> <td>   12.645</td> <td> 0.000</td> <td>   40.861</td> <td>   55.851</td>\n",
       "</tr>\n",
       "</table>\n",
       "<table class=\"simpletable\">\n",
       "<tr>\n",
       "  <th>Ljung-Box (L1) (Q):</th>     <td>0.00</td> <th>  Jarque-Bera (JB):  </th> <td>16.53</td>\n",
       "</tr>\n",
       "<tr>\n",
       "  <th>Prob(Q):</th>                <td>0.98</td> <th>  Prob(JB):          </th> <td>0.00</td> \n",
       "</tr>\n",
       "<tr>\n",
       "  <th>Heteroskedasticity (H):</th> <td>0.91</td> <th>  Skew:              </th> <td>0.49</td> \n",
       "</tr>\n",
       "<tr>\n",
       "  <th>Prob(H) (two-sided):</th>    <td>0.60</td> <th>  Kurtosis:          </th> <td>3.37</td> \n",
       "</tr>\n",
       "</table><br/><br/>Warnings:<br/>[1] Covariance matrix calculated using the outer product of gradients (complex-step)."
      ],
      "text/latex": [
       "\\begin{center}\n",
       "\\begin{tabular}{lclc}\n",
       "\\toprule\n",
       "\\textbf{Dep. Variable:}          &        y         & \\textbf{  No. Observations:  } &    358      \\\\\n",
       "\\textbf{Model:}                  &  ARIMA(0, 0, 9)  & \\textbf{  Log Likelihood     } & -1202.441   \\\\\n",
       "\\textbf{Date:}                   & Sun, 31 Dec 2023 & \\textbf{  AIC                } &  2426.882   \\\\\n",
       "\\textbf{Time:}                   &     02:16:05     & \\textbf{  BIC                } &  2469.568   \\\\\n",
       "\\textbf{Sample:}                 &        0         & \\textbf{  HQIC               } &  2443.859   \\\\\n",
       "\\textbf{}                        &       - 358      & \\textbf{                     } &             \\\\\n",
       "\\textbf{Covariance Type:}        &       opg        & \\textbf{                     } &             \\\\\n",
       "\\bottomrule\n",
       "\\end{tabular}\n",
       "\\begin{tabular}{lcccccc}\n",
       "                & \\textbf{coef} & \\textbf{std err} & \\textbf{z} & \\textbf{P$> |$z$|$} & \\textbf{[0.025} & \\textbf{0.975]}  \\\\\n",
       "\\midrule\n",
       "\\textbf{const}  &      41.8453  &        0.732     &    57.196  &         0.000        &       40.411    &       43.279     \\\\\n",
       "\\textbf{ma.L1}  &       0.1516  &        0.057     &     2.670  &         0.008        &        0.040    &        0.263     \\\\\n",
       "\\textbf{ma.L2}  &       0.0989  &        0.054     &     1.822  &         0.068        &       -0.007    &        0.205     \\\\\n",
       "\\textbf{ma.L3}  &       0.0515  &        0.058     &     0.894  &         0.371        &       -0.061    &        0.164     \\\\\n",
       "\\textbf{ma.L4}  &       0.0539  &        0.059     &     0.920  &         0.358        &       -0.061    &        0.169     \\\\\n",
       "\\textbf{ma.L5}  &       0.0859  &        0.057     &     1.515  &         0.130        &       -0.025    &        0.197     \\\\\n",
       "\\textbf{ma.L6}  &       0.0717  &        0.060     &     1.189  &         0.234        &       -0.047    &        0.190     \\\\\n",
       "\\textbf{ma.L7}  &       0.1879  &        0.050     &     3.761  &         0.000        &        0.090    &        0.286     \\\\\n",
       "\\textbf{ma.L8}  &       0.1255  &        0.059     &     2.141  &         0.032        &        0.011    &        0.240     \\\\\n",
       "\\textbf{ma.L9}  &       0.0346  &        0.055     &     0.632  &         0.527        &       -0.073    &        0.142     \\\\\n",
       "\\textbf{sigma2} &      48.3559  &        3.824     &    12.645  &         0.000        &       40.861    &       55.851     \\\\\n",
       "\\bottomrule\n",
       "\\end{tabular}\n",
       "\\begin{tabular}{lclc}\n",
       "\\textbf{Ljung-Box (L1) (Q):}     & 0.00 & \\textbf{  Jarque-Bera (JB):  } & 16.53  \\\\\n",
       "\\textbf{Prob(Q):}                & 0.98 & \\textbf{  Prob(JB):          } &  0.00  \\\\\n",
       "\\textbf{Heteroskedasticity (H):} & 0.91 & \\textbf{  Skew:              } &  0.49  \\\\\n",
       "\\textbf{Prob(H) (two-sided):}    & 0.60 & \\textbf{  Kurtosis:          } &  3.37  \\\\\n",
       "\\bottomrule\n",
       "\\end{tabular}\n",
       "%\\caption{SARIMAX Results}\n",
       "\\end{center}\n",
       "\n",
       "Warnings: \\newline\n",
       " [1] Covariance matrix calculated using the outer product of gradients (complex-step)."
      ],
      "text/plain": [
       "<class 'statsmodels.iolib.summary.Summary'>\n",
       "\"\"\"\n",
       "                               SARIMAX Results                                \n",
       "==============================================================================\n",
       "Dep. Variable:                      y   No. Observations:                  358\n",
       "Model:                 ARIMA(0, 0, 9)   Log Likelihood               -1202.441\n",
       "Date:                Sun, 31 Dec 2023   AIC                           2426.882\n",
       "Time:                        02:16:05   BIC                           2469.568\n",
       "Sample:                             0   HQIC                          2443.859\n",
       "                                - 358                                         \n",
       "Covariance Type:                  opg                                         \n",
       "==============================================================================\n",
       "                 coef    std err          z      P>|z|      [0.025      0.975]\n",
       "------------------------------------------------------------------------------\n",
       "const         41.8453      0.732     57.196      0.000      40.411      43.279\n",
       "ma.L1          0.1516      0.057      2.670      0.008       0.040       0.263\n",
       "ma.L2          0.0989      0.054      1.822      0.068      -0.007       0.205\n",
       "ma.L3          0.0515      0.058      0.894      0.371      -0.061       0.164\n",
       "ma.L4          0.0539      0.059      0.920      0.358      -0.061       0.169\n",
       "ma.L5          0.0859      0.057      1.515      0.130      -0.025       0.197\n",
       "ma.L6          0.0717      0.060      1.189      0.234      -0.047       0.190\n",
       "ma.L7          0.1879      0.050      3.761      0.000       0.090       0.286\n",
       "ma.L8          0.1255      0.059      2.141      0.032       0.011       0.240\n",
       "ma.L9          0.0346      0.055      0.632      0.527      -0.073       0.142\n",
       "sigma2        48.3559      3.824     12.645      0.000      40.861      55.851\n",
       "===================================================================================\n",
       "Ljung-Box (L1) (Q):                   0.00   Jarque-Bera (JB):                16.53\n",
       "Prob(Q):                              0.98   Prob(JB):                         0.00\n",
       "Heteroskedasticity (H):               0.91   Skew:                             0.49\n",
       "Prob(H) (two-sided):                  0.60   Kurtosis:                         3.37\n",
       "===================================================================================\n",
       "\n",
       "Warnings:\n",
       "[1] Covariance matrix calculated using the outer product of gradients (complex-step).\n",
       "\"\"\""
      ]
     },
     "execution_count": 43,
     "metadata": {},
     "output_type": "execute_result"
    }
   ],
   "source": [
    "MA_results.summary()"
   ]
  },
  {
   "cell_type": "code",
   "execution_count": 54,
   "metadata": {},
   "outputs": [
    {
     "name": "stdout",
     "output_type": "stream",
     "text": [
      "Predicted=41.25894485489726 \tExpected=44\n",
      "Predicted=41.90336456961751 \tExpected=34\n",
      "Predicted=41.90336456961751 \tExpected=37\n",
      "Predicted=41.90336456961751 \tExpected=52\n",
      "Predicted=41.90336456961751 \tExpected=48\n",
      "Predicted=41.90336456961751 \tExpected=55\n",
      "Predicted=41.90336456961751 \tExpected=50\n"
     ]
    }
   ],
   "source": [
    "\n",
    "Y_hat = MA_results.forecast(7)\n",
    "for y_hat, y_true in zip(Y_hat, test):\n",
    "    print(f'Predicted={y_hat} \\tExpected={y_true}')"
   ]
  },
  {
   "cell_type": "code",
   "execution_count": 55,
   "metadata": {},
   "outputs": [
    {
     "name": "stdout",
     "output_type": "stream",
     "text": [
      "RMSE: 8.195886724495098\n"
     ]
    }
   ],
   "source": [
    "print('RMSE:', np.sqrt(mean_squared_error(test, Y_hat)))"
   ]
  },
  {
   "cell_type": "code",
   "execution_count": 56,
   "metadata": {},
   "outputs": [
    {
     "data": {
      "text/plain": [
       "<Axes: >"
      ]
     },
     "execution_count": 56,
     "metadata": {},
     "output_type": "execute_result"
    },
    {
     "data": {
      "image/png": "[encoded data removed]",
      "text/plain": [
       "<Figure size 640x480 with 1 Axes>"
      ]
     },
     "metadata": {},
     "output_type": "display_data"
    }
   ],
   "source": [
    "sns.lineplot(Y_hat)\n"
   ]
  },
  {
   "cell_type": "code",
   "execution_count": 57,
   "metadata": {},
   "outputs": [
    {
     "data": {
      "text/plain": [
       "Text(0.5, 1.0, 'MA(2)')"
      ]
     },
     "execution_count": 57,
     "metadata": {},
     "output_type": "execute_result"
    },
    {
     "data": {
      "image/png": "[encoded data removed]",
      "text/plain": [
       "<Figure size 640x480 with 1 Axes>"
      ]
     },
     "metadata": {},
     "output_type": "display_data"
    }
   ],
   "source": [
    "sns.lineplot(test, label='test')\n",
    "sns.lineplot(Y_hat, label='prediction')\n",
    "plt.title(\"MA(2)\")"
   ]
  },
  {
   "cell_type": "code",
   "execution_count": 58,
   "metadata": {},
   "outputs": [
    {
     "data": {
      "text/plain": [
       "41.90782122905028"
      ]
     },
     "execution_count": 58,
     "metadata": {},
     "output_type": "execute_result"
    }
   ],
   "source": [
    "train.mean()"
   ]
  },
  {
   "cell_type": "code",
   "execution_count": 60,
   "metadata": {},
   "outputs": [
    {
     "data": {
      "text/plain": [
       "array([41.90336457,  0.17330466, 51.65745841])"
      ]
     },
     "execution_count": 60,
     "metadata": {},
     "output_type": "execute_result"
    }
   ],
   "source": [
    "MA_results.params"
   ]
  },
  {
   "cell_type": "code",
   "execution_count": 37,
   "metadata": {},
   "outputs": [
    {
     "data": {
      "text/plain": [
       "40.332227738328505"
      ]
     },
     "execution_count": 37,
     "metadata": {},
     "output_type": "execute_result"
    }
   ],
   "source": [
    "41.11548398943469 + 0.17900771*-2.94012608 + 0.11330768*-2.26772814"
   ]
  },
  {
   "cell_type": "code",
   "execution_count": 62,
   "metadata": {},
   "outputs": [
    {
     "data": {
      "text/plain": [
       "42.02521008403362"
      ]
     },
     "execution_count": 62,
     "metadata": {},
     "output_type": "execute_result"
    }
   ],
   "source": [
    "train.sum() / (len(train)-1)"
   ]
  },
  {
   "cell_type": "code",
   "execution_count": 46,
   "metadata": {},
   "outputs": [
    {
     "data": {
      "text/plain": [
       "array([-6.89874025e+00, -8.58294191e+00, -9.63603196e+00, -8.20730677e+00,\n",
       "        4.66081766e+00, -1.28031243e+01,  4.86502357e+00,  1.68107497e+00,\n",
       "       -4.75091010e+00, -1.42387694e+01, -8.11576072e-01, -7.14009987e+00,\n",
       "        1.44713505e+01,  3.31980458e+00,  8.67273904e-01, -5.43014834e+00,\n",
       "        8.97502939e+00,  1.09937804e-01, -1.93535976e+00,  1.04352473e+01,\n",
       "       -9.54743886e+00,  1.16279312e+01, -3.89843143e+00, -1.05184249e+01,\n",
       "       -2.57413881e+00,  2.75386883e+00, -3.10003430e+00, -6.65584470e+00,\n",
       "        3.64396500e+00, -3.79687973e+00, -1.76319587e+01, -1.53122680e+01,\n",
       "       -6.15988975e+00,  4.93892517e+00, -4.08488310e+00,  8.27286716e+00,\n",
       "       -4.91679863e+00,  9.04402521e+00, -1.19605794e+01, -9.78246183e+00,\n",
       "        1.22076214e+01, -6.97557054e+00,  2.96672336e+00,  9.36057914e+00,\n",
       "       -9.91050867e+00,  1.08146917e+01,  4.28828332e+00,  1.10823628e+00,\n",
       "        3.41698146e+00, -3.63597797e+00,  6.36495760e+00, -5.62613250e+00,\n",
       "       -6.61281774e+00,  1.19224892e+01, -1.28367470e+00,  1.98013778e+00,\n",
       "       -3.10774997e+00, -4.56679386e+00, -1.07291170e+01, -4.46069271e+00,\n",
       "       -1.18845504e+01,  5.73411672e+00, -7.57858047e+00, -5.19183538e+00,\n",
       "        9.88934974e+00,  9.19264719e-01, -4.18383505e+00, -9.25396126e+00,\n",
       "       -7.68149140e-01,  4.28730930e+00,  4.20835521e-01, -3.45985814e+00,\n",
       "       -1.03270829e+01, -1.26580842e+01, -8.46270768e+00,  3.05040793e+00,\n",
       "        4.51410302e+00, -2.05243417e+00, -6.04282126e+00,  4.41552793e+00,\n",
       "        3.99554428e+00, -1.14286739e-01, -4.33100791e+00, -7.11050686e+00,\n",
       "       -5.13516819e+00,  1.58261695e+01, -8.14989264e+00, -1.02330732e+01,\n",
       "        1.08565043e+01, -1.68265241e+00, -3.82765785e+00, -2.29025181e-02,\n",
       "        5.53906253e+00, -8.88768013e+00, -4.93539530e+00, -7.00822396e+00,\n",
       "       -5.08499589e+00, -2.19440113e+00, -2.92975641e+00, -7.12564874e+00,\n",
       "        1.27087698e+01, -9.36631729e+00, -7.66209849e+00, -1.46588979e+00,\n",
       "       -5.76816003e+00, -8.70009853e+00,  2.31222136e+00, -7.32685768e+00,\n",
       "        5.15083134e+00, -1.19905895e+01,  5.66403899e+00,  3.44597903e+00,\n",
       "        1.08426238e+01, -1.02301094e+01, -4.29602435e+00, -4.97056873e+00,\n",
       "       -5.22197530e-01,  7.57940776e-01,  1.60247515e+01,  6.14682512e+00,\n",
       "       -1.28147968e+01, -5.30127529e+00, -1.49775611e+00, -8.02995512e+00,\n",
       "       -1.29160907e+00,  6.24232336e+00, -4.86981504e+00,  1.02656910e+01,\n",
       "       -1.31845906e+01, -6.70177851e+00,  7.94845242e-01, -6.28166067e+00,\n",
       "        1.13566339e+00, -3.90272325e-01,  4.24421208e-02, -3.86211686e+00,\n",
       "       -1.72122006e+01, -4.38001606e+00,  3.83559101e+00, -6.08905114e+00,\n",
       "        1.37566449e+01, -2.67134951e+00,  2.02071833e+00, -9.57779985e-01,\n",
       "       -4.95625316e+00,  2.09699113e+00, -2.71253626e+00, -8.65078054e+00,\n",
       "        2.95716740e+00, -1.44789610e+00, -3.97462547e+00,  3.97680613e+00,\n",
       "        3.83973639e+00, -9.03668537e+00, -5.71617550e+00,  8.14842516e+00,\n",
       "        8.29031541e+00, -8.30604984e+00, -8.35124971e+00,  6.53733714e+00,\n",
       "       -1.22713248e-01,  5.38249583e+00, -8.84834416e+00,  7.53034659e-02,\n",
       "       -5.90963475e+00, -8.49402504e-01, -7.07708361e+00, -1.05356439e+01,\n",
       "       -3.21089077e+00, -1.30196616e-01, -2.51161545e+00,  3.56561057e+00,\n",
       "       -4.25242671e+00,  5.45846586e+00, -9.39401511e+00, -1.08356252e+01,\n",
       "        3.10533435e+00,  1.77314056e+00, -1.56800433e+00, -8.18965829e-01,\n",
       "        1.74255279e+01, -1.92524902e+00,  1.47144795e+00, -3.94399527e+00,\n",
       "       -4.35946103e+00,  4.32852188e+00, -1.79618611e-01,  1.46429581e+01,\n",
       "        1.50040948e+00,  7.17351520e+00, -2.35286272e+00,  4.70962593e+00,\n",
       "       -1.64752022e+01, -4.48318879e+00,  4.77055215e+00, -1.24472613e+00,\n",
       "       -2.16464887e-01, -5.71895432e+00,  4.14952382e+00,  3.00646446e+00,\n",
       "        2.09290649e+00,  4.38595782e+00, -4.92100291e+00,  4.85194505e-01,\n",
       "       -6.42800636e+00, -4.80305379e+00, -1.31061405e+00,  3.88009268e+00,\n",
       "        5.55195880e-01,  4.56223109e+00, -6.77832276e+00, -2.02304032e-01,\n",
       "        8.90550980e+00, -4.46997259e+00, -1.10764337e+00,  4.80601871e+00,\n",
       "        2.13664498e+01, -1.26805842e+00, -1.00927310e+01, -1.94838279e+00,\n",
       "        3.59361928e+00,  5.67874093e+00,  2.67753665e+00,  9.78515054e-01,\n",
       "       -5.37728747e+00, -2.04703759e+00,  3.07698327e+00,  2.78240111e+00,\n",
       "       -9.74545736e+00,  3.53050436e+00, -3.42649255e+00,  4.31459507e+00,\n",
       "        3.71716189e+00, -3.05301768e+00, -2.77340954e+00,  2.94365182e+00,\n",
       "        5.88857199e+00,  6.71362158e+00, -2.76775075e+00, -1.63996432e-01,\n",
       "        9.44422381e+00, -2.57074710e+00,  1.49134018e+00, -3.87441624e+00,\n",
       "        2.66258298e+01, -6.22596802e+00, -1.80115509e+00,  1.01291304e+01,\n",
       "        4.92151992e-01,  1.86545243e+00, -6.28843522e+00,  1.60155681e+01,\n",
       "       -5.31224237e-02, -1.70391786e+00,  1.14122934e+01, -1.74856180e+00,\n",
       "       -8.87883474e+00, -1.11234854e-01,  1.51272119e+01, -5.94024084e-01,\n",
       "        9.49356529e+00,  1.14691458e+01, -6.02749972e+00,  1.68806863e+01,\n",
       "        1.07624487e+01,  2.72619869e+01,  7.00168567e+00, -2.24108861e+00,\n",
       "        7.09087108e-01, -1.77173975e+00,  5.33806982e+00,  8.34645581e+00,\n",
       "        1.20023355e+01,  4.00703155e+00,  1.00240134e+01,  1.18528566e+01,\n",
       "        1.84370926e+00,  4.28201837e-01,  8.15701895e-01, -9.32757356e-02,\n",
       "        3.02553154e+00,  7.57023513e+00,  4.40331330e+00, -5.44733107e-01,\n",
       "       -2.30015805e+00,  1.75747282e+01, -3.78412657e+00, -1.21270417e+00,\n",
       "        9.74711378e+00,  5.49385991e+00,  1.01339356e+00,  2.97357943e-01,\n",
       "       -6.67948892e-02, -3.92047639e+00,  5.81062364e+00, -4.49466659e+00,\n",
       "       -5.75254857e+00,  1.64029059e+00, -6.54055695e+00, -1.29137876e+01,\n",
       "        5.15402271e+00, -5.35811868e+00,  3.47641395e+00,  4.08607087e+00,\n",
       "        4.97591714e+00,  5.74754898e+00, -4.91405496e-01, -4.62016340e-01,\n",
       "        1.72396443e+01,  6.75804607e-02,  8.13577815e+00,  2.63723533e+00,\n",
       "       -1.29267190e+00, -1.96616103e+00, -1.40031259e+00,  3.57470766e+00,\n",
       "       -7.37997431e+00, -5.98270977e+00,  8.41875321e-03, -2.22236027e+00,\n",
       "       -8.50187452e+00,  1.87497137e+00,  5.72895314e+00,  7.86328429e+00,\n",
       "        4.45367982e-02, -2.79768322e+00,  1.55970203e+01,  4.62627183e+00,\n",
       "        5.05859154e-01,  6.48651491e+00,  7.88280582e+00,  1.95520472e+00,\n",
       "        8.58080549e-01,  9.72611700e+00,  1.26298267e+00, -1.12268677e+01,\n",
       "        5.96785002e+00, -6.94941044e-01, -8.45054371e+00, -7.30728558e+00,\n",
       "       -3.63316822e+00,  8.57959650e+00, -2.28883155e-02,  1.33222722e-01,\n",
       "       -7.91999472e+00, -1.49609526e+00, -5.73353139e+00,  1.12971252e+01,\n",
       "        3.72864038e+00,  8.15375327e+00, -4.78080858e+00, -1.96682154e+00,\n",
       "        9.95038333e-01,  1.45996213e-01,  1.09623798e+01, -4.87763328e+00,\n",
       "       -2.26772815e+00, -2.94012608e+00])"
      ]
     },
     "execution_count": 46,
     "metadata": {},
     "output_type": "execute_result"
    }
   ],
   "source": [
    "MA_results.resid"
   ]
  },
  {
   "cell_type": "code",
   "execution_count": 39,
   "metadata": {},
   "outputs": [],
   "source": [
    "c = 41.89874024\n",
    "theta_1 = 0.17900771\n",
    "theta_2 = 0.11330768\n",
    "resid_t = -2.94012608\n",
    "resid_t_previous_1 = -2.2677281"
   ]
  },
  {
   "cell_type": "code",
   "execution_count": 275,
   "metadata": {},
   "outputs": [
    {
     "data": {
      "text/plain": [
       "41.11548399342612"
      ]
     },
     "execution_count": 275,
     "metadata": {},
     "output_type": "execute_result"
    }
   ],
   "source": [
    "c + theta_1*resid_t + theta_2*resid_t_previous_1"
   ]
  },
  {
   "cell_type": "code",
   "execution_count": 277,
   "metadata": {},
   "outputs": [
    {
     "data": {
      "text/plain": [
       "41.565601374967706"
      ]
     },
     "execution_count": 277,
     "metadata": {},
     "output_type": "execute_result"
    }
   ],
   "source": [
    "resid_t_previous_1 = resid_t\n",
    "resid_t = 0\n",
    "c + theta_1*resid_t + theta_2*resid_t_previous_1"
   ]
  },
  {
   "cell_type": "code",
   "execution_count": 224,
   "metadata": {},
   "outputs": [
    {
     "data": {
      "text/plain": [
       "0.45011737056530876"
      ]
     },
     "execution_count": 224,
     "metadata": {},
     "output_type": "execute_result"
    }
   ],
   "source": [
    "41.56560136 -41.11548398943469"
   ]
  },
  {
   "cell_type": "code",
   "execution_count": 229,
   "metadata": {},
   "outputs": [
    {
     "data": {
      "text/plain": [
       "-8.36148650773368e-08"
      ]
     },
     "execution_count": 229,
     "metadata": {},
     "output_type": "execute_result"
    }
   ],
   "source": [
    "(41.56560136 - c - theta_2*(-2.94012608))/theta_1"
   ]
  },
  {
   "cell_type": "code",
   "execution_count": 226,
   "metadata": {},
   "outputs": [
    {
     "data": {
      "text/plain": [
       "array([-2.26772814, -2.94012608])"
      ]
     },
     "execution_count": 226,
     "metadata": {},
     "output_type": "execute_result"
    }
   ],
   "source": [
    "MA_results.resid[-2:]"
   ]
  },
  {
   "cell_type": "code",
   "execution_count": 230,
   "metadata": {},
   "outputs": [
    {
     "data": {
      "text/plain": [
       "41.56560136"
      ]
     },
     "execution_count": 230,
     "metadata": {},
     "output_type": "execute_result"
    }
   ],
   "source": [
    "-8.36148650773368e-08*theta_1 + -2.94012608*theta_2 + c"
   ]
  },
  {
   "cell_type": "code",
   "execution_count": 233,
   "metadata": {},
   "outputs": [
    {
     "data": {
      "text/plain": [
       "41.89874015638514"
      ]
     },
     "execution_count": 233,
     "metadata": {},
     "output_type": "execute_result"
    }
   ],
   "source": [
    "-8.36148650773368e-08+c"
   ]
  },
  {
   "cell_type": "code",
   "execution_count": 234,
   "metadata": {},
   "outputs": [
    {
     "data": {
      "text/plain": [
       "-0.7832562505653087"
      ]
     },
     "execution_count": 234,
     "metadata": {},
     "output_type": "execute_result"
    }
   ],
   "source": [
    "41.11548398943469-c"
   ]
  },
  {
   "cell_type": "code",
   "execution_count": 235,
   "metadata": {},
   "outputs": [
    {
     "data": {
      "text/plain": [
       "41.89874024"
      ]
     },
     "execution_count": 235,
     "metadata": {},
     "output_type": "execute_result"
    }
   ],
   "source": [
    "c"
   ]
  },
  {
   "cell_type": "code",
   "execution_count": 237,
   "metadata": {},
   "outputs": [
    {
     "data": {
      "text/plain": [
       "array([-7.83256271e-01, -3.33138879e-01,  2.03549178e-10,  2.03549178e-10,\n",
       "        2.03549178e-10,  2.03549178e-10,  2.03549178e-10])"
      ]
     },
     "execution_count": 237,
     "metadata": {},
     "output_type": "execute_result"
    }
   ],
   "source": [
    "Y_hat - c"
   ]
  },
  {
   "cell_type": "code",
   "execution_count": 255,
   "metadata": {},
   "outputs": [
    {
     "data": {
      "text/plain": [
       "array([41.11548397, 41.56560136, 41.89874024, 41.89874024, 41.89874024,\n",
       "       41.89874024, 41.89874024])"
      ]
     },
     "execution_count": 255,
     "metadata": {},
     "output_type": "execute_result"
    }
   ],
   "source": [
    "MA_results.forecast(7)"
   ]
  },
  {
   "cell_type": "code",
   "execution_count": 259,
   "metadata": {},
   "outputs": [
    {
     "data": {
      "text/plain": [
       "41.56560137535659"
      ]
     },
     "execution_count": 259,
     "metadata": {},
     "output_type": "execute_result"
    }
   ],
   "source": [
    "MA_results.resid[-1]*theta_2 + c "
   ]
  },
  {
   "cell_type": "code",
   "execution_count": null,
   "metadata": {},
   "outputs": [],
   "source": []
  }
 ],
 "metadata": {
  "kernelspec": {
   "display_name": "base",
   "language": "python",
   "name": "python3"
  },
  "language_info": {
   "codemirror_mode": {
    "name": "ipython",
    "version": 3
   },
   "file_extension": ".py",
   "mimetype": "text/x-python",
   "name": "python",
   "nbconvert_exporter": "python",
   "pygments_lexer": "ipython3",
   "version": "3.11.5"
  }
 },
 "nbformat": 4,
 "nbformat_minor": 2
}
